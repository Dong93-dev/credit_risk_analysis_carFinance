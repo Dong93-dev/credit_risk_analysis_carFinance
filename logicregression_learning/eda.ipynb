{
 "cells": [
  {
   "cell_type": "markdown",
   "id": "acquired-teach",
   "metadata": {},
   "source": [
    "# data analysis ahead of modelling"
   ]
  },
  {
   "cell_type": "markdown",
   "id": "theoretical-precipitation",
   "metadata": {},
   "source": [
    "## flag used in this script, checking them before running\n",
    "- Test = \"T1\"/\"T2\"\n",
    "- T3 = True/False\n",
    "- woe_run -> True/False. 'True' will not trigger Test and T3"
   ]
  },
  {
   "cell_type": "markdown",
   "id": "recognized-cathedral",
   "metadata": {},
   "source": [
    "# Results: \n",
    "\n",
    "## no woe - best aucpr T1+T3  -> 0.49209293309370233¶, recall : 0.653353428786737\n",
    "- saved dataset : \"./selected_feature_T1_T3.p\"\n",
    "\n",
    "## with woe -> best aucpr 0.5191040225224578, recall : 0.6940467219291635\n",
    "- saved dataset: \"./woe_data_model/selected_feature_woe.p.p\""
   ]
  },
  {
   "cell_type": "code",
   "execution_count": 57,
   "id": "proprietary-westminster",
   "metadata": {},
   "outputs": [],
   "source": [
    "import pandas as pd\n",
    "import xgboost as xgb\n",
    "import numpy as np\n",
    "import pickle\n",
    "import matplotlib.pyplot as plt\n",
    "from sklearn.linear_model import LogisticRegression\n",
    "from sklearn.preprocessing import StandardScaler\n",
    "from sklearn.metrics import f1_score\n",
    "from sklearn.model_selection import train_test_split\n",
    "from sklearn.metrics import plot_confusion_matrix, confusion_matrix\n",
    "from sklearn.metrics import recall_score, precision_recall_curve, average_precision_score, accuracy_score"
   ]
  },
  {
   "cell_type": "code",
   "execution_count": 58,
   "id": "decent-joyce",
   "metadata": {},
   "outputs": [],
   "source": [
    "def remove_skewed_columns(df):\n",
    "# this function was used to remove the column that has only one value\n",
    "    for column in df:\n",
    "        if len(df[column].unique()) == 1:\n",
    "            df.drop(columns=column, inplace=True)\n",
    "    return df"
   ]
  },
  {
   "cell_type": "code",
   "execution_count": 88,
   "id": "collective-resort",
   "metadata": {},
   "outputs": [],
   "source": [
    "woe_run = True"
   ]
  },
  {
   "cell_type": "code",
   "execution_count": 89,
   "id": "imported-particle",
   "metadata": {},
   "outputs": [
    {
     "data": {
      "text/html": [
       "<div>\n",
       "<style scoped>\n",
       "    .dataframe tbody tr th:only-of-type {\n",
       "        vertical-align: middle;\n",
       "    }\n",
       "\n",
       "    .dataframe tbody tr th {\n",
       "        vertical-align: top;\n",
       "    }\n",
       "\n",
       "    .dataframe thead th {\n",
       "        text-align: right;\n",
       "    }\n",
       "</style>\n",
       "<table border=\"1\" class=\"dataframe\">\n",
       "  <thead>\n",
       "    <tr style=\"text-align: right;\">\n",
       "      <th></th>\n",
       "      <th>LIMIT_BAL</th>\n",
       "      <th>SEX</th>\n",
       "      <th>EDUCATION</th>\n",
       "      <th>MARRIAGE</th>\n",
       "      <th>AGE</th>\n",
       "      <th>PAY_0</th>\n",
       "      <th>PAY_2</th>\n",
       "      <th>PAY_3</th>\n",
       "      <th>PAY_4</th>\n",
       "      <th>PAY_5</th>\n",
       "      <th>...</th>\n",
       "      <th>BILL_AMT4</th>\n",
       "      <th>BILL_AMT5</th>\n",
       "      <th>BILL_AMT6</th>\n",
       "      <th>PAY_AMT1</th>\n",
       "      <th>PAY_AMT2</th>\n",
       "      <th>PAY_AMT3</th>\n",
       "      <th>PAY_AMT4</th>\n",
       "      <th>PAY_AMT5</th>\n",
       "      <th>PAY_AMT6</th>\n",
       "      <th>default payment next month</th>\n",
       "    </tr>\n",
       "    <tr>\n",
       "      <th>ID</th>\n",
       "      <th></th>\n",
       "      <th></th>\n",
       "      <th></th>\n",
       "      <th></th>\n",
       "      <th></th>\n",
       "      <th></th>\n",
       "      <th></th>\n",
       "      <th></th>\n",
       "      <th></th>\n",
       "      <th></th>\n",
       "      <th></th>\n",
       "      <th></th>\n",
       "      <th></th>\n",
       "      <th></th>\n",
       "      <th></th>\n",
       "      <th></th>\n",
       "      <th></th>\n",
       "      <th></th>\n",
       "      <th></th>\n",
       "      <th></th>\n",
       "      <th></th>\n",
       "    </tr>\n",
       "  </thead>\n",
       "  <tbody>\n",
       "    <tr>\n",
       "      <th>1</th>\n",
       "      <td>0.692865</td>\n",
       "      <td>-0.079777</td>\n",
       "      <td>0.091416</td>\n",
       "      <td>0.076822</td>\n",
       "      <td>0.041466</td>\n",
       "      <td>2.065423</td>\n",
       "      <td>1.473415</td>\n",
       "      <td>-0.430029</td>\n",
       "      <td>-0.407307</td>\n",
       "      <td>-0.147246</td>\n",
       "      <td>...</td>\n",
       "      <td>0.061971</td>\n",
       "      <td>0.111703</td>\n",
       "      <td>0.056681</td>\n",
       "      <td>0.677342</td>\n",
       "      <td>0.012750</td>\n",
       "      <td>0.521223</td>\n",
       "      <td>0.463320</td>\n",
       "      <td>0.382161</td>\n",
       "      <td>0.361833</td>\n",
       "      <td>1</td>\n",
       "    </tr>\n",
       "    <tr>\n",
       "      <th>2</th>\n",
       "      <td>0.103760</td>\n",
       "      <td>-0.079777</td>\n",
       "      <td>0.091416</td>\n",
       "      <td>-0.072942</td>\n",
       "      <td>0.041466</td>\n",
       "      <td>-0.342752</td>\n",
       "      <td>1.473415</td>\n",
       "      <td>-0.295297</td>\n",
       "      <td>-0.235542</td>\n",
       "      <td>-0.200910</td>\n",
       "      <td>...</td>\n",
       "      <td>-0.341374</td>\n",
       "      <td>-0.383466</td>\n",
       "      <td>-0.434588</td>\n",
       "      <td>0.677342</td>\n",
       "      <td>0.053114</td>\n",
       "      <td>0.098836</td>\n",
       "      <td>0.046470</td>\n",
       "      <td>0.382161</td>\n",
       "      <td>0.007203</td>\n",
       "      <td>1</td>\n",
       "    </tr>\n",
       "    <tr>\n",
       "      <th>3</th>\n",
       "      <td>0.103760</td>\n",
       "      <td>-0.079777</td>\n",
       "      <td>0.091416</td>\n",
       "      <td>-0.072942</td>\n",
       "      <td>-0.161146</td>\n",
       "      <td>-0.659061</td>\n",
       "      <td>-0.406083</td>\n",
       "      <td>-0.295297</td>\n",
       "      <td>-0.235542</td>\n",
       "      <td>-0.200910</td>\n",
       "      <td>...</td>\n",
       "      <td>-0.023247</td>\n",
       "      <td>0.119063</td>\n",
       "      <td>0.121763</td>\n",
       "      <td>0.120994</td>\n",
       "      <td>0.174191</td>\n",
       "      <td>0.098836</td>\n",
       "      <td>0.046470</td>\n",
       "      <td>0.026641</td>\n",
       "      <td>-0.370422</td>\n",
       "      <td>0</td>\n",
       "    </tr>\n",
       "    <tr>\n",
       "      <th>4</th>\n",
       "      <td>0.273008</td>\n",
       "      <td>-0.079777</td>\n",
       "      <td>0.091416</td>\n",
       "      <td>0.076822</td>\n",
       "      <td>0.052545</td>\n",
       "      <td>-0.659061</td>\n",
       "      <td>-0.406083</td>\n",
       "      <td>-0.295297</td>\n",
       "      <td>-0.235542</td>\n",
       "      <td>-0.200910</td>\n",
       "      <td>...</td>\n",
       "      <td>0.178366</td>\n",
       "      <td>0.202243</td>\n",
       "      <td>0.226296</td>\n",
       "      <td>0.043100</td>\n",
       "      <td>-0.183815</td>\n",
       "      <td>-0.083967</td>\n",
       "      <td>0.046470</td>\n",
       "      <td>0.026641</td>\n",
       "      <td>-0.094260</td>\n",
       "      <td>0</td>\n",
       "    </tr>\n",
       "    <tr>\n",
       "      <th>5</th>\n",
       "      <td>0.273008</td>\n",
       "      <td>0.115154</td>\n",
       "      <td>0.091416</td>\n",
       "      <td>0.076822</td>\n",
       "      <td>0.052545</td>\n",
       "      <td>-0.342752</td>\n",
       "      <td>-0.406083</td>\n",
       "      <td>-0.430029</td>\n",
       "      <td>-0.235542</td>\n",
       "      <td>-0.200910</td>\n",
       "      <td>...</td>\n",
       "      <td>0.243437</td>\n",
       "      <td>0.247299</td>\n",
       "      <td>0.301036</td>\n",
       "      <td>0.043100</td>\n",
       "      <td>-1.125815</td>\n",
       "      <td>-0.541741</td>\n",
       "      <td>-0.449736</td>\n",
       "      <td>0.181627</td>\n",
       "      <td>0.236430</td>\n",
       "      <td>0</td>\n",
       "    </tr>\n",
       "    <tr>\n",
       "      <th>...</th>\n",
       "      <td>...</td>\n",
       "      <td>...</td>\n",
       "      <td>...</td>\n",
       "      <td>...</td>\n",
       "      <td>...</td>\n",
       "      <td>...</td>\n",
       "      <td>...</td>\n",
       "      <td>...</td>\n",
       "      <td>...</td>\n",
       "      <td>...</td>\n",
       "      <td>...</td>\n",
       "      <td>...</td>\n",
       "      <td>...</td>\n",
       "      <td>...</td>\n",
       "      <td>...</td>\n",
       "      <td>...</td>\n",
       "      <td>...</td>\n",
       "      <td>...</td>\n",
       "      <td>...</td>\n",
       "      <td>...</td>\n",
       "      <td>...</td>\n",
       "    </tr>\n",
       "    <tr>\n",
       "      <th>29996</th>\n",
       "      <td>-0.302390</td>\n",
       "      <td>0.115154</td>\n",
       "      <td>0.168463</td>\n",
       "      <td>0.076822</td>\n",
       "      <td>0.052545</td>\n",
       "      <td>-0.659061</td>\n",
       "      <td>-0.406083</td>\n",
       "      <td>-0.295297</td>\n",
       "      <td>-0.235542</td>\n",
       "      <td>-0.200910</td>\n",
       "      <td>...</td>\n",
       "      <td>-0.006246</td>\n",
       "      <td>0.202243</td>\n",
       "      <td>0.121763</td>\n",
       "      <td>-0.491163</td>\n",
       "      <td>-1.125815</td>\n",
       "      <td>-0.544802</td>\n",
       "      <td>-0.316342</td>\n",
       "      <td>-0.452800</td>\n",
       "      <td>-0.094260</td>\n",
       "      <td>0</td>\n",
       "    </tr>\n",
       "    <tr>\n",
       "      <th>29997</th>\n",
       "      <td>-0.302390</td>\n",
       "      <td>0.115154</td>\n",
       "      <td>0.168463</td>\n",
       "      <td>-0.072942</td>\n",
       "      <td>0.052545</td>\n",
       "      <td>-0.342752</td>\n",
       "      <td>-0.402003</td>\n",
       "      <td>-0.430029</td>\n",
       "      <td>-0.407307</td>\n",
       "      <td>-0.200910</td>\n",
       "      <td>...</td>\n",
       "      <td>-0.030937</td>\n",
       "      <td>-0.383466</td>\n",
       "      <td>0.056681</td>\n",
       "      <td>0.043100</td>\n",
       "      <td>-0.126413</td>\n",
       "      <td>-0.290394</td>\n",
       "      <td>-0.086809</td>\n",
       "      <td>0.382161</td>\n",
       "      <td>0.361833</td>\n",
       "      <td>0</td>\n",
       "    </tr>\n",
       "    <tr>\n",
       "      <th>29998</th>\n",
       "      <td>0.651911</td>\n",
       "      <td>0.115154</td>\n",
       "      <td>0.091416</td>\n",
       "      <td>-0.072942</td>\n",
       "      <td>0.052545</td>\n",
       "      <td>2.199295</td>\n",
       "      <td>1.640054</td>\n",
       "      <td>1.319915</td>\n",
       "      <td>-0.407307</td>\n",
       "      <td>-0.200910</td>\n",
       "      <td>...</td>\n",
       "      <td>0.243437</td>\n",
       "      <td>0.101398</td>\n",
       "      <td>0.301036</td>\n",
       "      <td>0.677342</td>\n",
       "      <td>0.562642</td>\n",
       "      <td>-0.886388</td>\n",
       "      <td>-0.493851</td>\n",
       "      <td>0.017868</td>\n",
       "      <td>-0.253901</td>\n",
       "      <td>1</td>\n",
       "    </tr>\n",
       "    <tr>\n",
       "      <th>29999</th>\n",
       "      <td>0.059685</td>\n",
       "      <td>0.115154</td>\n",
       "      <td>0.168463</td>\n",
       "      <td>0.076822</td>\n",
       "      <td>0.052545</td>\n",
       "      <td>0.593072</td>\n",
       "      <td>-0.402003</td>\n",
       "      <td>-0.295297</td>\n",
       "      <td>-0.235542</td>\n",
       "      <td>-0.200910</td>\n",
       "      <td>...</td>\n",
       "      <td>0.050016</td>\n",
       "      <td>0.001459</td>\n",
       "      <td>0.065431</td>\n",
       "      <td>-0.973280</td>\n",
       "      <td>0.003980</td>\n",
       "      <td>-0.083967</td>\n",
       "      <td>-0.023646</td>\n",
       "      <td>-0.837715</td>\n",
       "      <td>0.007203</td>\n",
       "      <td>1</td>\n",
       "    </tr>\n",
       "    <tr>\n",
       "      <th>30000</th>\n",
       "      <td>0.273008</td>\n",
       "      <td>0.115154</td>\n",
       "      <td>0.091416</td>\n",
       "      <td>0.076822</td>\n",
       "      <td>0.052545</td>\n",
       "      <td>-0.659061</td>\n",
       "      <td>-0.406083</td>\n",
       "      <td>-0.295297</td>\n",
       "      <td>-0.235542</td>\n",
       "      <td>-0.200910</td>\n",
       "      <td>...</td>\n",
       "      <td>-0.018045</td>\n",
       "      <td>0.202243</td>\n",
       "      <td>0.121763</td>\n",
       "      <td>-0.178736</td>\n",
       "      <td>-0.000087</td>\n",
       "      <td>0.155873</td>\n",
       "      <td>0.046470</td>\n",
       "      <td>0.026641</td>\n",
       "      <td>-0.094260</td>\n",
       "      <td>1</td>\n",
       "    </tr>\n",
       "  </tbody>\n",
       "</table>\n",
       "<p>30000 rows × 24 columns</p>\n",
       "</div>"
      ],
      "text/plain": [
       "       LIMIT_BAL       SEX  EDUCATION  MARRIAGE       AGE     PAY_0     PAY_2  \\\n",
       "ID                                                                              \n",
       "1       0.692865 -0.079777   0.091416  0.076822  0.041466  2.065423  1.473415   \n",
       "2       0.103760 -0.079777   0.091416 -0.072942  0.041466 -0.342752  1.473415   \n",
       "3       0.103760 -0.079777   0.091416 -0.072942 -0.161146 -0.659061 -0.406083   \n",
       "4       0.273008 -0.079777   0.091416  0.076822  0.052545 -0.659061 -0.406083   \n",
       "5       0.273008  0.115154   0.091416  0.076822  0.052545 -0.342752 -0.406083   \n",
       "...          ...       ...        ...       ...       ...       ...       ...   \n",
       "29996  -0.302390  0.115154   0.168463  0.076822  0.052545 -0.659061 -0.406083   \n",
       "29997  -0.302390  0.115154   0.168463 -0.072942  0.052545 -0.342752 -0.402003   \n",
       "29998   0.651911  0.115154   0.091416 -0.072942  0.052545  2.199295  1.640054   \n",
       "29999   0.059685  0.115154   0.168463  0.076822  0.052545  0.593072 -0.402003   \n",
       "30000   0.273008  0.115154   0.091416  0.076822  0.052545 -0.659061 -0.406083   \n",
       "\n",
       "          PAY_3     PAY_4     PAY_5  ...  BILL_AMT4  BILL_AMT5  BILL_AMT6  \\\n",
       "ID                                   ...                                    \n",
       "1     -0.430029 -0.407307 -0.147246  ...   0.061971   0.111703   0.056681   \n",
       "2     -0.295297 -0.235542 -0.200910  ...  -0.341374  -0.383466  -0.434588   \n",
       "3     -0.295297 -0.235542 -0.200910  ...  -0.023247   0.119063   0.121763   \n",
       "4     -0.295297 -0.235542 -0.200910  ...   0.178366   0.202243   0.226296   \n",
       "5     -0.430029 -0.235542 -0.200910  ...   0.243437   0.247299   0.301036   \n",
       "...         ...       ...       ...  ...        ...        ...        ...   \n",
       "29996 -0.295297 -0.235542 -0.200910  ...  -0.006246   0.202243   0.121763   \n",
       "29997 -0.430029 -0.407307 -0.200910  ...  -0.030937  -0.383466   0.056681   \n",
       "29998  1.319915 -0.407307 -0.200910  ...   0.243437   0.101398   0.301036   \n",
       "29999 -0.295297 -0.235542 -0.200910  ...   0.050016   0.001459   0.065431   \n",
       "30000 -0.295297 -0.235542 -0.200910  ...  -0.018045   0.202243   0.121763   \n",
       "\n",
       "       PAY_AMT1  PAY_AMT2  PAY_AMT3  PAY_AMT4  PAY_AMT5  PAY_AMT6  \\\n",
       "ID                                                                  \n",
       "1      0.677342  0.012750  0.521223  0.463320  0.382161  0.361833   \n",
       "2      0.677342  0.053114  0.098836  0.046470  0.382161  0.007203   \n",
       "3      0.120994  0.174191  0.098836  0.046470  0.026641 -0.370422   \n",
       "4      0.043100 -0.183815 -0.083967  0.046470  0.026641 -0.094260   \n",
       "5      0.043100 -1.125815 -0.541741 -0.449736  0.181627  0.236430   \n",
       "...         ...       ...       ...       ...       ...       ...   \n",
       "29996 -0.491163 -1.125815 -0.544802 -0.316342 -0.452800 -0.094260   \n",
       "29997  0.043100 -0.126413 -0.290394 -0.086809  0.382161  0.361833   \n",
       "29998  0.677342  0.562642 -0.886388 -0.493851  0.017868 -0.253901   \n",
       "29999 -0.973280  0.003980 -0.083967 -0.023646 -0.837715  0.007203   \n",
       "30000 -0.178736 -0.000087  0.155873  0.046470  0.026641 -0.094260   \n",
       "\n",
       "       default payment next month  \n",
       "ID                                 \n",
       "1                               1  \n",
       "2                               1  \n",
       "3                               0  \n",
       "4                               0  \n",
       "5                               0  \n",
       "...                           ...  \n",
       "29996                           0  \n",
       "29997                           0  \n",
       "29998                           1  \n",
       "29999                           1  \n",
       "30000                           1  \n",
       "\n",
       "[30000 rows x 24 columns]"
      ]
     },
     "execution_count": 89,
     "metadata": {},
     "output_type": "execute_result"
    }
   ],
   "source": [
    "# load the file\n",
    "if woe_run:\n",
    "    df = pd.read_csv(\"../woe_transformation/dataset_test_woed.csv\", index_col=[\"ID\"])\n",
    "    df.drop( \"Unnamed: 0\", axis=1, inplace=True)\n",
    "    df.rename(columns={\"target\": \"default payment next month\"}, inplace=True)\n",
    "else:\n",
    "    df = pd.read_csv(\"../credit_risk_data.csv\", skiprows=1, index_col=\"ID\")\n",
    "\n",
    "df\n"
   ]
  },
  {
   "cell_type": "code",
   "execution_count": 90,
   "id": "normal-summer",
   "metadata": {},
   "outputs": [],
   "source": [
    "df = remove_skewed_columns(df)"
   ]
  },
  {
   "cell_type": "code",
   "execution_count": 91,
   "id": "voluntary-karen",
   "metadata": {},
   "outputs": [
    {
     "data": {
      "text/plain": [
       "Index(['LIMIT_BAL', 'SEX', 'EDUCATION', 'MARRIAGE', 'AGE', 'PAY_0', 'PAY_2',\n",
       "       'PAY_3', 'PAY_4', 'PAY_5', 'PAY_6', 'BILL_AMT1', 'BILL_AMT2',\n",
       "       'BILL_AMT3', 'BILL_AMT4', 'BILL_AMT5', 'BILL_AMT6', 'PAY_AMT1',\n",
       "       'PAY_AMT2', 'PAY_AMT3', 'PAY_AMT4', 'PAY_AMT5', 'PAY_AMT6',\n",
       "       'default payment next month'],\n",
       "      dtype='object')"
      ]
     },
     "execution_count": 91,
     "metadata": {},
     "output_type": "execute_result"
    }
   ],
   "source": [
    "df[\"EDUCATION\"].unique()\n",
    "df[\"SEX\"].unique()\n",
    "df.columns\n"
   ]
  },
  {
   "cell_type": "markdown",
   "id": "scientific-greece",
   "metadata": {},
   "source": [
    "# zeros data processing"
   ]
  },
  {
   "cell_type": "markdown",
   "id": "incorporated-sheet",
   "metadata": {},
   "source": [
    "## T1:  defualt the unreasonable data to missing data and labeled 0\n",
    "## T2:  defualt the unreasonable data to data value that appears most frequently\n",
    "## T3:  pay status: change all negative to 0 and positive to 1 "
   ]
  },
  {
   "cell_type": "code",
   "execution_count": 92,
   "id": "clinical-belfast",
   "metadata": {},
   "outputs": [],
   "source": [
    "Test = \"T1\"\n",
    "T3 = True"
   ]
  },
  {
   "cell_type": "code",
   "execution_count": 93,
   "id": "approved-article",
   "metadata": {},
   "outputs": [],
   "source": [
    "# defualt the unreasonable data to missing data and labeled 0 \n",
    "if not woe_run:\n",
    "    if Test == \"T1\":\n",
    "        df[\"EDUCATION\"][df[\"EDUCATION\"] == 5] = 0\n",
    "        df[\"EDUCATION\"][df[\"EDUCATION\"] == 6] = 0\n",
    "    elif Test == \"T2\":\n",
    "        count = 0\n",
    "        for i in range(5):\n",
    "            if sum(df[\"EDUCATION\"]==i) > count:\n",
    "                count = sum(df[\"EDUCATION\"]==i)\n",
    "                max = i\n",
    "        df[\"EDUCATION\"][df[\"EDUCATION\"] == 5] = max\n",
    "        df[\"EDUCATION\"][df[\"EDUCATION\"] == 6] = max\n",
    "\n",
    "    if T3:\n",
    "        for i in [0, 2, 3, 4, 5, 6]:\n",
    "            df[\"PAY_\" + str(i)][df[\"PAY_\" + str(i)] < 0] = 0\n",
    "            df[\"PAY_\" + str(i)][df[\"PAY_\" + str(i)] > 0] = 1\n",
    "\n"
   ]
  },
  {
   "cell_type": "code",
   "execution_count": 94,
   "id": "sensitive-handy",
   "metadata": {},
   "outputs": [],
   "source": [
    "# fit the model with all features\n",
    "clf = LogisticRegression(random_state=10)\n",
    "# seperate X and y\n",
    "X = df.drop(\"default payment next month\", axis=1).copy()\n",
    "scaler = StandardScaler()\n",
    "scaled_X = scaler.fit_transform(X)\n",
    "y = df[\"default payment next month\"].copy()\n",
    "X_train, X_test, y_train, y_test = train_test_split(scaled_X,y, test_size=0.2, random_state = 8, stratify = y)"
   ]
  },
  {
   "cell_type": "markdown",
   "id": "auburn-washington",
   "metadata": {},
   "source": [
    "# Up sampling the training set -> 1s are much less than 0s"
   ]
  },
  {
   "cell_type": "code",
   "execution_count": 95,
   "id": "acting-necklace",
   "metadata": {},
   "outputs": [
    {
     "data": {
      "text/plain": [
       "(24000, 23)"
      ]
     },
     "execution_count": 95,
     "metadata": {},
     "output_type": "execute_result"
    }
   ],
   "source": [
    "X_train.shape"
   ]
  },
  {
   "cell_type": "code",
   "execution_count": 96,
   "id": "incredible-ridge",
   "metadata": {},
   "outputs": [
    {
     "data": {
      "text/plain": [
       "(45236, 24)"
      ]
     },
     "execution_count": 96,
     "metadata": {},
     "output_type": "execute_result"
    }
   ],
   "source": [
    "scale_pos_weight = round(sum(abs(df[\"default payment next month\"] - 1))/sum(df[\"default payment next month\"]))\n",
    "data_train = np.concatenate((X_train, np.array([y_train]).T), axis=1)\n",
    "data_train_positive = data_train[data_train[:,-1]==1,:]\n",
    "\n",
    "for i in range(scale_pos_weight):\n",
    "    data_train = np.concatenate((data_train, data_train_positive), axis=0)\n",
    "data_train.shape"
   ]
  },
  {
   "cell_type": "code",
   "execution_count": 97,
   "id": "married-sacramento",
   "metadata": {},
   "outputs": [],
   "source": [
    "clf.fit(data_train[:,:-1], data_train[:,-1])\n",
    "predictions = clf.predict_proba(X_test)"
   ]
  },
  {
   "cell_type": "code",
   "execution_count": 98,
   "id": "casual-plumbing",
   "metadata": {},
   "outputs": [
    {
     "data": {
      "text/plain": [
       "array([[0.48694428, 0.51305572],\n",
       "       [0.04559396, 0.95440604],\n",
       "       [0.03296198, 0.96703802],\n",
       "       ...,\n",
       "       [0.22372856, 0.77627144],\n",
       "       [0.70064416, 0.29935584],\n",
       "       [0.60810638, 0.39189362]])"
      ]
     },
     "execution_count": 98,
     "metadata": {},
     "output_type": "execute_result"
    }
   ],
   "source": [
    "predictions"
   ]
  },
  {
   "cell_type": "code",
   "execution_count": 99,
   "id": "local-credits",
   "metadata": {},
   "outputs": [
    {
     "data": {
      "text/plain": [
       "0.5191040225224578"
      ]
     },
     "execution_count": 99,
     "metadata": {},
     "output_type": "execute_result"
    }
   ],
   "source": [
    "# calculate score\n",
    "aucpr = average_precision_score(y_test, predictions[:,1])\n",
    "aucpr"
   ]
  },
  {
   "cell_type": "code",
   "execution_count": 100,
   "id": "continuous-degree",
   "metadata": {},
   "outputs": [
    {
     "data": {
      "text/plain": [
       "0.6940467219291635"
      ]
     },
     "execution_count": 100,
     "metadata": {},
     "output_type": "execute_result"
    }
   ],
   "source": [
    "recall_score(y_test, clf.predict(X_test))"
   ]
  },
  {
   "cell_type": "code",
   "execution_count": 101,
   "id": "expressed-consent",
   "metadata": {},
   "outputs": [
    {
     "data": {
      "text/plain": [
       "0.6886666666666666"
      ]
     },
     "execution_count": 101,
     "metadata": {},
     "output_type": "execute_result"
    }
   ],
   "source": [
    "accuracy_score(y_test, clf.predict(X_test))"
   ]
  },
  {
   "cell_type": "code",
   "execution_count": 102,
   "id": "recreational-curve",
   "metadata": {},
   "outputs": [
    {
     "data": {
      "text/plain": [
       "<sklearn.metrics._plot.confusion_matrix.ConfusionMatrixDisplay at 0x128b633d0>"
      ]
     },
     "execution_count": 102,
     "metadata": {},
     "output_type": "execute_result"
    },
    {
     "data": {
      "image/png": "[encoded data removed]",
      "text/plain": [
       "<Figure size 432x288 with 2 Axes>"
      ]
     },
     "metadata": {
      "needs_background": "light"
     },
     "output_type": "display_data"
    }
   ],
   "source": [
    "plot_confusion_matrix(clf, X_test, y_test)"
   ]
  },
  {
   "cell_type": "markdown",
   "id": "nasty-gossip",
   "metadata": {},
   "source": [
    "# save "
   ]
  },
  {
   "cell_type": "code",
   "execution_count": 104,
   "id": "genuine-insulin",
   "metadata": {},
   "outputs": [],
   "source": [
    "pickle.dump({\"X\": scaled_X, \"y\": y, \"scaler\": scaler}, open(\"./woe_data_model/selected_feature_woe.p\", \"wb\" ))"
   ]
  },
  {
   "cell_type": "code",
   "execution_count": null,
   "id": "moved-running",
   "metadata": {},
   "outputs": [],
   "source": []
  }
 ],
 "metadata": {
  "kernelspec": {
   "display_name": "myenv",
   "language": "python",
   "name": "myenv"
  },
  "language_info": {
   "codemirror_mode": {
    "name": "ipython",
    "version": 3
   },
   "file_extension": ".py",
   "mimetype": "text/x-python",
   "name": "python",
   "nbconvert_exporter": "python",
   "pygments_lexer": "ipython3",
   "version": "3.8.2"
  }
 },
 "nbformat": 4,
 "nbformat_minor": 5
}
