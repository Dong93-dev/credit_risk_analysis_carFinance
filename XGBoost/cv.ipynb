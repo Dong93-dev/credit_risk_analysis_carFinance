{
 "cells": [
  {
   "cell_type": "code",
   "execution_count": 11,
   "id": "broke-manchester",
   "metadata": {},
   "outputs": [],
   "source": [
    "import pandas as pd\n",
    "import numpy as np\n",
    "import xgboost as xgb\n",
    "import pickle\n",
    "from sklearn.model_selection import train_test_split\n",
    "from sklearn.model_selection import GridSearchCV"
   ]
  },
  {
   "cell_type": "markdown",
   "id": "direct-ability",
   "metadata": {},
   "source": [
    "# cross-validation after feature selection\n",
    "# please change loading path before running\n",
    "- K-fold (3)\n",
    "- still look at AUC under PR due to imbalanced data"
   ]
  },
  {
   "cell_type": "markdown",
   "id": "romance-volume",
   "metadata": {},
   "source": [
    "# best params save\n",
    "- no woe -> ./cv_optimal_params_with_paramgrid2.p\n",
    "- with woe -> ./woe_data_model/cv_optimal_params_with_paramgrid2.p"
   ]
  },
  {
   "cell_type": "code",
   "execution_count": 12,
   "id": "developed-hometown",
   "metadata": {},
   "outputs": [],
   "source": [
    "# import the feature \n",
    "data = pickle.load(open( \"./woe_data_model/selected_feature_woe.p\", \"rb\" ) )\n",
    "X = data[\"X\"]\n",
    "y = data[\"y\"]"
   ]
  },
  {
   "cell_type": "code",
   "execution_count": 13,
   "id": "proof-general",
   "metadata": {},
   "outputs": [],
   "source": [
    "X_train, X_test, y_train, y_test = train_test_split(X,y, test_size = 0.3, random_state = 10, stratify=y)"
   ]
  },
  {
   "cell_type": "markdown",
   "id": "broken-improvement",
   "metadata": {},
   "source": [
    "## param_grid\n"
   ]
  },
  {
   "cell_type": "code",
   "execution_count": 14,
   "id": "silver-promotion",
   "metadata": {},
   "outputs": [],
   "source": [
    "# grid data to search\n",
    "\n",
    "param_grid1 = {\n",
    "    'max_depth': [6, 9, 12],\n",
    "    'learning_rate':[0.01, 0.1, 0.9],\n",
    "    'gamma': [0, 0.5, 1],\n",
    "    'reg_lambda': [0, 5, 10],\n",
    "    'scale_pos_weight': [3, 9]\n",
    "}"
   ]
  },
  {
   "cell_type": "code",
   "execution_count": 18,
   "id": "agreed-button",
   "metadata": {},
   "outputs": [],
   "source": [
    "param_grid2 = {\n",
    "    'max_depth': [6],\n",
    "    'learning_rate':[0.1],\n",
    "    'gamma': [0],\n",
    "    'reg_lambda': [10, 20, 30],\n",
    "    'scale_pos_weight': [3]\n",
    "}"
   ]
  },
  {
   "cell_type": "code",
   "execution_count": 19,
   "id": "bored-edition",
   "metadata": {},
   "outputs": [
    {
     "name": "stdout",
     "output_type": "stream",
     "text": [
      "Fitting 3 folds for each of 3 candidates, totalling 9 fits\n",
      "[13:42:52] WARNING: /Users/travis/build/dmlc/xgboost/src/learner.cc:1061: Starting in XGBoost 1.3.0, the default evaluation metric used with the objective 'binary:logistic' was changed from 'error' to 'logloss'. Explicitly set eval_metric if you'd like to restore the old behavior.\n"
     ]
    },
    {
     "data": {
      "text/plain": [
       "GridSearchCV(cv=3,\n",
       "             estimator=XGBClassifier(base_score=None, booster=None,\n",
       "                                     colsample_bylevel=None,\n",
       "                                     colsample_bynode=None,\n",
       "                                     colsample_bytree=0.8, gamma=None,\n",
       "                                     gpu_id=None, importance_type='gain',\n",
       "                                     interaction_constraints=None,\n",
       "                                     learning_rate=None, max_delta_step=None,\n",
       "                                     max_depth=None, min_child_weight=None,\n",
       "                                     missing=nan, monotone_constraints=None,\n",
       "                                     n_estimators=100, n_jobs=None,\n",
       "                                     num_parallel_tree=None, random_state=10,\n",
       "                                     reg_alpha=None, reg_lambda=None,\n",
       "                                     scale_pos_weight=None, subsample=0.8,\n",
       "                                     tree_method=None, use_label_encoder=False,\n",
       "                                     validate_parameters=None, verbosity=None),\n",
       "             n_jobs=5,\n",
       "             param_grid={'gamma': [0], 'learning_rate': [0.1], 'max_depth': [6],\n",
       "                         'reg_lambda': [10, 20, 30], 'scale_pos_weight': [3]},\n",
       "             scoring='average_precision', verbose=2)"
      ]
     },
     "execution_count": 19,
     "metadata": {},
     "output_type": "execute_result"
    }
   ],
   "source": [
    "optimal_params = GridSearchCV(estimator = xgb.XGBClassifier(objective=\"binary:logistic\", \n",
    "                                                            random_state = 10, \n",
    "                                                            subsample=0.8,\n",
    "                                                            colsample_bytree=0.8, \n",
    "                                                            use_label_encoder=False),\n",
    "                              param_grid=param_grid2,\n",
    "                             scoring=\"average_precision\",cv=3, verbose=2, n_jobs=5)\n",
    "optimal_params.fit(X_train, y_train)"
   ]
  },
  {
   "cell_type": "code",
   "execution_count": 20,
   "id": "breathing-princess",
   "metadata": {},
   "outputs": [
    {
     "data": {
      "text/plain": [
       "{'gamma': 0,\n",
       " 'learning_rate': 0.1,\n",
       " 'max_depth': 6,\n",
       " 'reg_lambda': 30,\n",
       " 'scale_pos_weight': 3}"
      ]
     },
     "execution_count": 20,
     "metadata": {},
     "output_type": "execute_result"
    }
   ],
   "source": [
    "optimal_params.best_params_\n"
   ]
  },
  {
   "cell_type": "code",
   "execution_count": 21,
   "id": "demonstrated-gospel",
   "metadata": {},
   "outputs": [
    {
     "data": {
      "text/plain": [
       "0.5564979745462204"
      ]
     },
     "execution_count": 21,
     "metadata": {},
     "output_type": "execute_result"
    }
   ],
   "source": [
    "optimal_params.best_score_"
   ]
  },
  {
   "cell_type": "markdown",
   "id": "korean-growth",
   "metadata": {},
   "source": [
    "# save the parameters"
   ]
  },
  {
   "cell_type": "code",
   "execution_count": 22,
   "id": "pharmaceutical-guyana",
   "metadata": {},
   "outputs": [],
   "source": [
    "pickle.dump( {\"optimal_params\": optimal_params}, open( \"./woe_data_model/cv_optimal_params_with_paramgrid2.p\", \"wb\" ) )"
   ]
  },
  {
   "cell_type": "code",
   "execution_count": null,
   "id": "color-albert",
   "metadata": {},
   "outputs": [],
   "source": []
  }
 ],
 "metadata": {
  "kernelspec": {
   "display_name": "myenv",
   "language": "python",
   "name": "myenv"
  },
  "language_info": {
   "codemirror_mode": {
    "name": "ipython",
    "version": 3
   },
   "file_extension": ".py",
   "mimetype": "text/x-python",
   "name": "python",
   "nbconvert_exporter": "python",
   "pygments_lexer": "ipython3",
   "version": "3.8.2"
  }
 },
 "nbformat": 4,
 "nbformat_minor": 5
}
