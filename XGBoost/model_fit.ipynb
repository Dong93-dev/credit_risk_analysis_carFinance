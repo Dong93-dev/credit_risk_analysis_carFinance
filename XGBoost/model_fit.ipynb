{
 "cells": [
  {
   "cell_type": "code",
   "execution_count": 75,
   "id": "herbal-trace",
   "metadata": {},
   "outputs": [],
   "source": [
    "import pandas as pd\n",
    "import numpy as np\n",
    "import xgboost as xgb\n",
    "import pickle\n",
    "from sklearn.model_selection import train_test_split\n",
    "from sklearn.model_selection import GridSearchCV\n",
    "from sklearn.metrics import plot_confusion_matrix, confusion_matrix, average_precision_score, f1_score"
   ]
  },
  {
   "cell_type": "markdown",
   "id": "second-castle",
   "metadata": {},
   "source": [
    "# train XGBoost\n",
    "# check the loading path before running the script\n",
    "\n",
    "## feature_T1 - no woe - test_data: best aucpr 0.5502431743045912, recall 0.8874937217478654 \n",
    "- fetching data site: \"./selected_feature_T1.p\", hyperparam site: \"./cv_optimal_params_with_paramgrid2.p\"\n",
    "- saved model: xgb_model_trained_T1.p\"\n",
    "\n",
    "## with woe - test_data: best aucpr 0.5570952700328535, recall 0.903566047212456\n",
    "- fetching data site: \"./woe_data_model/selected_feature_woe.p\", hyperparam site: \"./woe_data_model/cv_optimal_params_with_paramgrid2.p\"\n",
    "- saved model:\n",
    "\n",
    "# conclude: using woe transformation leads to better recall value\n",
    "\n"
   ]
  },
  {
   "cell_type": "code",
   "execution_count": 76,
   "id": "advance-atlantic",
   "metadata": {},
   "outputs": [],
   "source": [
    "data = pickle.load(open( \"./woe_data_model/selected_feature_woe.p\", \"rb\" ) )\n",
    "X = data[\"X\"]\n",
    "y = data[\"y\"]\n",
    "\n",
    "X_train, X_test, y_train, y_test = train_test_split(X,y, test_size = 0.3, random_state = 10, stratify=y)"
   ]
  },
  {
   "cell_type": "code",
   "execution_count": 77,
   "id": "frank-southwest",
   "metadata": {},
   "outputs": [
    {
     "data": {
      "text/plain": [
       "{'optimal_params': GridSearchCV(cv=3,\n",
       "              estimator=XGBClassifier(base_score=None, booster=None,\n",
       "                                      colsample_bylevel=None,\n",
       "                                      colsample_bynode=None,\n",
       "                                      colsample_bytree=0.8, gamma=None,\n",
       "                                      gpu_id=None, importance_type='gain',\n",
       "                                      interaction_constraints=None,\n",
       "                                      learning_rate=None, max_delta_step=None,\n",
       "                                      max_depth=None, min_child_weight=None,\n",
       "                                      missing=nan, monotone_constraints=None,\n",
       "                                      n_estimators=100, n_jobs=None,\n",
       "                                      num_parallel_tree=None, random_state=10,\n",
       "                                      reg_alpha=None, reg_lambda=None,\n",
       "                                      scale_pos_weight=None, subsample=0.8,\n",
       "                                      tree_method=None, use_label_encoder=False,\n",
       "                                      validate_parameters=None, verbosity=None),\n",
       "              n_jobs=5,\n",
       "              param_grid={'gamma': [0], 'learning_rate': [0.1], 'max_depth': [6],\n",
       "                          'reg_lambda': [10, 20, 30], 'scale_pos_weight': [3]},\n",
       "              scoring='average_precision', verbose=2)}"
      ]
     },
     "execution_count": 77,
     "metadata": {},
     "output_type": "execute_result"
    }
   ],
   "source": [
    "best_params = pickle.load(open( \"./woe_data_model/cv_optimal_params_with_paramgrid2.p\", \"rb\" ) )\n",
    "best_params"
   ]
  },
  {
   "cell_type": "code",
   "execution_count": 78,
   "id": "forced-settle",
   "metadata": {},
   "outputs": [
    {
     "data": {
      "text/plain": [
       "{'gamma': 0,\n",
       " 'learning_rate': 0.1,\n",
       " 'max_depth': 6,\n",
       " 'reg_lambda': 30,\n",
       " 'scale_pos_weight': 3}"
      ]
     },
     "execution_count": 78,
     "metadata": {},
     "output_type": "execute_result"
    }
   ],
   "source": [
    "best_params_to_use = best_params[\"optimal_params\"].best_params_\n",
    "best_params_to_use"
   ]
  },
  {
   "cell_type": "code",
   "execution_count": 79,
   "id": "noted-upset",
   "metadata": {},
   "outputs": [],
   "source": [
    "xgb_model = xgb.XGBClassifier(objective=\"binary:logistic\", random_state = 10, \n",
    "                                                             gamma = 1,\n",
    "                                                          reg_lambda = 10,\n",
    "                                                            max_depth = 6,\n",
    "                                                      scale_pos_weight = 9,\n",
    "                                                       learning_rate = 0.1,\n",
    "                                                       colsample_bytree=0.8,subsample=0.8,\n",
    "                              \n",
    "                                                            use_label_encoder=False)"
   ]
  },
  {
   "cell_type": "code",
   "execution_count": 80,
   "id": "married-adapter",
   "metadata": {},
   "outputs": [
    {
     "name": "stdout",
     "output_type": "stream",
     "text": [
      "[0]\tvalidation_0-aucpr:0.50969\n",
      "[1]\tvalidation_0-aucpr:0.51832\n",
      "[2]\tvalidation_0-aucpr:0.52745\n",
      "[3]\tvalidation_0-aucpr:0.52526\n",
      "[4]\tvalidation_0-aucpr:0.53125\n",
      "[5]\tvalidation_0-aucpr:0.53371\n",
      "[6]\tvalidation_0-aucpr:0.53594\n",
      "[7]\tvalidation_0-aucpr:0.53305\n",
      "[8]\tvalidation_0-aucpr:0.53563\n",
      "[9]\tvalidation_0-aucpr:0.53881\n",
      "[10]\tvalidation_0-aucpr:0.53979\n",
      "[11]\tvalidation_0-aucpr:0.54033\n",
      "[12]\tvalidation_0-aucpr:0.54122\n",
      "[13]\tvalidation_0-aucpr:0.54102\n",
      "[14]\tvalidation_0-aucpr:0.54410\n",
      "[15]\tvalidation_0-aucpr:0.54466\n",
      "[16]\tvalidation_0-aucpr:0.54554\n",
      "[17]\tvalidation_0-aucpr:0.54778\n",
      "[18]\tvalidation_0-aucpr:0.54580\n",
      "[19]\tvalidation_0-aucpr:0.54568\n",
      "[20]\tvalidation_0-aucpr:0.54671\n",
      "[21]\tvalidation_0-aucpr:0.55068\n",
      "[22]\tvalidation_0-aucpr:0.55139\n",
      "[23]\tvalidation_0-aucpr:0.55185\n",
      "[24]\tvalidation_0-aucpr:0.55242\n",
      "[25]\tvalidation_0-aucpr:0.55196\n",
      "[26]\tvalidation_0-aucpr:0.55212\n",
      "[27]\tvalidation_0-aucpr:0.55179\n",
      "[28]\tvalidation_0-aucpr:0.55308\n",
      "[29]\tvalidation_0-aucpr:0.55450\n",
      "[30]\tvalidation_0-aucpr:0.55390\n",
      "[31]\tvalidation_0-aucpr:0.55482\n",
      "[32]\tvalidation_0-aucpr:0.55464\n",
      "[33]\tvalidation_0-aucpr:0.55302\n",
      "[34]\tvalidation_0-aucpr:0.55251\n",
      "[35]\tvalidation_0-aucpr:0.55289\n",
      "[36]\tvalidation_0-aucpr:0.55434\n",
      "[37]\tvalidation_0-aucpr:0.55575\n",
      "[38]\tvalidation_0-aucpr:0.55689\n",
      "[39]\tvalidation_0-aucpr:0.55615\n",
      "[40]\tvalidation_0-aucpr:0.55545\n",
      "[41]\tvalidation_0-aucpr:0.55496\n",
      "[42]\tvalidation_0-aucpr:0.55513\n",
      "[43]\tvalidation_0-aucpr:0.55482\n",
      "[44]\tvalidation_0-aucpr:0.55454\n",
      "[45]\tvalidation_0-aucpr:0.55492\n",
      "[46]\tvalidation_0-aucpr:0.55436\n",
      "[47]\tvalidation_0-aucpr:0.55470\n"
     ]
    },
    {
     "data": {
      "text/plain": [
       "XGBClassifier(base_score=0.5, booster='gbtree', colsample_bylevel=1,\n",
       "              colsample_bynode=1, colsample_bytree=0.8, gamma=1, gpu_id=-1,\n",
       "              importance_type='gain', interaction_constraints='',\n",
       "              learning_rate=0.1, max_delta_step=0, max_depth=6,\n",
       "              min_child_weight=1, missing=nan, monotone_constraints='()',\n",
       "              n_estimators=100, n_jobs=8, num_parallel_tree=1, random_state=10,\n",
       "              reg_alpha=0, reg_lambda=10, scale_pos_weight=9, subsample=0.8,\n",
       "              tree_method='exact', use_label_encoder=False,\n",
       "              validate_parameters=1, verbosity=None)"
      ]
     },
     "execution_count": 80,
     "metadata": {},
     "output_type": "execute_result"
    }
   ],
   "source": [
    "xgb_model.fit(X_train, y_train, verbose=True, early_stopping_rounds = 10, eval_metric=\"aucpr\",eval_set=[(X_test,y_test)])"
   ]
  },
  {
   "cell_type": "code",
   "execution_count": 81,
   "id": "respiratory-assist",
   "metadata": {},
   "outputs": [
    {
     "data": {
      "text/plain": [
       "{'validation_0': OrderedDict([('aucpr',\n",
       "               [0.509689,\n",
       "                0.518321,\n",
       "                0.527453,\n",
       "                0.525255,\n",
       "                0.531252,\n",
       "                0.533712,\n",
       "                0.535938,\n",
       "                0.533051,\n",
       "                0.53563,\n",
       "                0.538808,\n",
       "                0.539787,\n",
       "                0.540333,\n",
       "                0.541225,\n",
       "                0.541025,\n",
       "                0.544102,\n",
       "                0.544664,\n",
       "                0.54554,\n",
       "                0.547782,\n",
       "                0.545802,\n",
       "                0.545675,\n",
       "                0.54671,\n",
       "                0.550678,\n",
       "                0.551395,\n",
       "                0.551851,\n",
       "                0.552424,\n",
       "                0.551958,\n",
       "                0.552119,\n",
       "                0.551791,\n",
       "                0.553082,\n",
       "                0.554499,\n",
       "                0.553896,\n",
       "                0.554819,\n",
       "                0.554644,\n",
       "                0.553017,\n",
       "                0.55251,\n",
       "                0.552886,\n",
       "                0.554337,\n",
       "                0.555749,\n",
       "                0.556894,\n",
       "                0.556154,\n",
       "                0.555446,\n",
       "                0.554956,\n",
       "                0.555126,\n",
       "                0.554822,\n",
       "                0.554544,\n",
       "                0.55492,\n",
       "                0.554365,\n",
       "                0.554695,\n",
       "                0.554699])])}"
      ]
     },
     "execution_count": 81,
     "metadata": {},
     "output_type": "execute_result"
    }
   ],
   "source": [
    "evals_result = xgb_model.evals_result()\n",
    "evals_result"
   ]
  },
  {
   "cell_type": "code",
   "execution_count": 82,
   "id": "loved-scheduling",
   "metadata": {},
   "outputs": [
    {
     "data": {
      "text/plain": [
       "<sklearn.metrics._plot.confusion_matrix.ConfusionMatrixDisplay at 0x1224851f0>"
      ]
     },
     "execution_count": 82,
     "metadata": {},
     "output_type": "execute_result"
    },
    {
     "data": {
      "image/png": "[encoded data removed]",
      "text/plain": [
       "<Figure size 432x288 with 2 Axes>"
      ]
     },
     "metadata": {
      "needs_background": "light"
     },
     "output_type": "display_data"
    }
   ],
   "source": [
    "plot_confusion_matrix(xgb_model, X_test,y_test, display_labels=[\"Default not on the loan\", \"Default on the loan\"])"
   ]
  },
  {
   "cell_type": "code",
   "execution_count": 83,
   "id": "devoted-lighting",
   "metadata": {},
   "outputs": [
    {
     "data": {
      "text/plain": [
       "0.903566047212456"
      ]
     },
     "execution_count": 83,
     "metadata": {},
     "output_type": "execute_result"
    }
   ],
   "source": [
    "y_pred = xgb_model.predict(X_test)\n",
    "cm = confusion_matrix(y_test, y_pred)\n",
    "recall_val = cm[1,1] / (cm[1,0]+cm[1,1])\n",
    "recall_val"
   ]
  },
  {
   "cell_type": "code",
   "execution_count": 84,
   "id": "demonstrated-serve",
   "metadata": {},
   "outputs": [
    {
     "data": {
      "text/plain": [
       "0.5570952700328535"
      ]
     },
     "execution_count": 84,
     "metadata": {},
     "output_type": "execute_result"
    }
   ],
   "source": [
    "y_prob = xgb_model.predict_proba(X_test)\n",
    "average_precision_score(y_test, y_prob[:,1])\n"
   ]
  },
  {
   "cell_type": "code",
   "execution_count": 85,
   "id": "impossible-attendance",
   "metadata": {},
   "outputs": [
    {
     "data": {
      "text/plain": [
       "0.44419753086419744"
      ]
     },
     "execution_count": 85,
     "metadata": {},
     "output_type": "execute_result"
    }
   ],
   "source": [
    "f1 = f1_score(y_test, y_pred)\n",
    "f1"
   ]
  },
  {
   "cell_type": "markdown",
   "id": "genuine-quarterly",
   "metadata": {},
   "source": [
    "# Save"
   ]
  },
  {
   "cell_type": "code",
   "execution_count": 86,
   "id": "orange-fountain",
   "metadata": {},
   "outputs": [],
   "source": [
    "pickle.dump({'xgb_model', xgb_model}, open( \"./woe_data_model/xgb_model_trained_woe.p\", \"wb\" ) )"
   ]
  },
  {
   "cell_type": "code",
   "execution_count": null,
   "id": "understood-executive",
   "metadata": {},
   "outputs": [],
   "source": []
  }
 ],
 "metadata": {
  "kernelspec": {
   "display_name": "myenv",
   "language": "python",
   "name": "myenv"
  },
  "language_info": {
   "codemirror_mode": {
    "name": "ipython",
    "version": 3
   },
   "file_extension": ".py",
   "mimetype": "text/x-python",
   "name": "python",
   "nbconvert_exporter": "python",
   "pygments_lexer": "ipython3",
   "version": "3.8.2"
  }
 },
 "nbformat": 4,
 "nbformat_minor": 5
}
