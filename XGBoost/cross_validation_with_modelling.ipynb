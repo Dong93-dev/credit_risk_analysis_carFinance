{
 "cells": [
  {
   "cell_type": "markdown",
   "id": "understanding-precipitation",
   "metadata": {},
   "source": [
    "# Cross validation and modelling"
   ]
  },
  {
   "cell_type": "markdown",
   "id": "polish-terrain",
   "metadata": {},
   "source": [
    "# Module import"
   ]
  },
  {
   "cell_type": "code",
   "execution_count": 54,
   "id": "broke-manchester",
   "metadata": {},
   "outputs": [],
   "source": [
    "import pandas as pd\n",
    "import numpy as np\n",
    "import xgboost as xgb\n",
    "import pickle\n",
    "from sklearn.model_selection import train_test_split\n",
    "from sklearn.model_selection import GridSearchCV\n",
    "from sklearn.metrics import plot_confusion_matrix, confusion_matrix, average_precision_score, f1_score"
   ]
  },
  {
   "cell_type": "markdown",
   "id": "direct-ability",
   "metadata": {},
   "source": [
    "# cross-validation after feature selection\n",
    "# please change loading path before running\n",
    "- K-fold (3)\n",
    "- still look at AUC under PR due to imbalanced data"
   ]
  },
  {
   "cell_type": "markdown",
   "id": "trying-emphasis",
   "metadata": {},
   "source": [
    "# Load data\n",
    "- if woe_run = True, it will load woe transformed related preprocessed data\n",
    "\n",
    "- if woe_run = False, it will load preprocessed data (T1) without woe transformed"
   ]
  },
  {
   "cell_type": "code",
   "execution_count": 55,
   "id": "affected-agency",
   "metadata": {},
   "outputs": [],
   "source": [
    "woe_run = False"
   ]
  },
  {
   "cell_type": "code",
   "execution_count": 62,
   "id": "developed-hometown",
   "metadata": {},
   "outputs": [
    {
     "data": {
      "text/html": [
       "<div>\n",
       "<style scoped>\n",
       "    .dataframe tbody tr th:only-of-type {\n",
       "        vertical-align: middle;\n",
       "    }\n",
       "\n",
       "    .dataframe tbody tr th {\n",
       "        vertical-align: top;\n",
       "    }\n",
       "\n",
       "    .dataframe thead th {\n",
       "        text-align: right;\n",
       "    }\n",
       "</style>\n",
       "<table border=\"1\" class=\"dataframe\">\n",
       "  <thead>\n",
       "    <tr style=\"text-align: right;\">\n",
       "      <th></th>\n",
       "      <th>LIMIT_BAL</th>\n",
       "      <th>AGE</th>\n",
       "      <th>PAY_0</th>\n",
       "      <th>PAY_2</th>\n",
       "      <th>PAY_3</th>\n",
       "      <th>PAY_4</th>\n",
       "      <th>PAY_5</th>\n",
       "      <th>PAY_6</th>\n",
       "      <th>BILL_AMT1</th>\n",
       "      <th>BILL_AMT2</th>\n",
       "      <th>...</th>\n",
       "      <th>SEX_2</th>\n",
       "      <th>EDUCATION_0</th>\n",
       "      <th>EDUCATION_1</th>\n",
       "      <th>EDUCATION_2</th>\n",
       "      <th>EDUCATION_3</th>\n",
       "      <th>EDUCATION_4</th>\n",
       "      <th>MARRIAGE_0</th>\n",
       "      <th>MARRIAGE_1</th>\n",
       "      <th>MARRIAGE_2</th>\n",
       "      <th>MARRIAGE_3</th>\n",
       "    </tr>\n",
       "    <tr>\n",
       "      <th>ID</th>\n",
       "      <th></th>\n",
       "      <th></th>\n",
       "      <th></th>\n",
       "      <th></th>\n",
       "      <th></th>\n",
       "      <th></th>\n",
       "      <th></th>\n",
       "      <th></th>\n",
       "      <th></th>\n",
       "      <th></th>\n",
       "      <th></th>\n",
       "      <th></th>\n",
       "      <th></th>\n",
       "      <th></th>\n",
       "      <th></th>\n",
       "      <th></th>\n",
       "      <th></th>\n",
       "      <th></th>\n",
       "      <th></th>\n",
       "      <th></th>\n",
       "      <th></th>\n",
       "    </tr>\n",
       "  </thead>\n",
       "  <tbody>\n",
       "    <tr>\n",
       "      <th>1</th>\n",
       "      <td>20000</td>\n",
       "      <td>24</td>\n",
       "      <td>2</td>\n",
       "      <td>2</td>\n",
       "      <td>-1</td>\n",
       "      <td>-1</td>\n",
       "      <td>-2</td>\n",
       "      <td>-2</td>\n",
       "      <td>3913</td>\n",
       "      <td>3102</td>\n",
       "      <td>...</td>\n",
       "      <td>1</td>\n",
       "      <td>0</td>\n",
       "      <td>0</td>\n",
       "      <td>1</td>\n",
       "      <td>0</td>\n",
       "      <td>0</td>\n",
       "      <td>0</td>\n",
       "      <td>1</td>\n",
       "      <td>0</td>\n",
       "      <td>0</td>\n",
       "    </tr>\n",
       "    <tr>\n",
       "      <th>2</th>\n",
       "      <td>120000</td>\n",
       "      <td>26</td>\n",
       "      <td>-1</td>\n",
       "      <td>2</td>\n",
       "      <td>0</td>\n",
       "      <td>0</td>\n",
       "      <td>0</td>\n",
       "      <td>2</td>\n",
       "      <td>2682</td>\n",
       "      <td>1725</td>\n",
       "      <td>...</td>\n",
       "      <td>1</td>\n",
       "      <td>0</td>\n",
       "      <td>0</td>\n",
       "      <td>1</td>\n",
       "      <td>0</td>\n",
       "      <td>0</td>\n",
       "      <td>0</td>\n",
       "      <td>0</td>\n",
       "      <td>1</td>\n",
       "      <td>0</td>\n",
       "    </tr>\n",
       "    <tr>\n",
       "      <th>3</th>\n",
       "      <td>90000</td>\n",
       "      <td>34</td>\n",
       "      <td>0</td>\n",
       "      <td>0</td>\n",
       "      <td>0</td>\n",
       "      <td>0</td>\n",
       "      <td>0</td>\n",
       "      <td>0</td>\n",
       "      <td>29239</td>\n",
       "      <td>14027</td>\n",
       "      <td>...</td>\n",
       "      <td>1</td>\n",
       "      <td>0</td>\n",
       "      <td>0</td>\n",
       "      <td>1</td>\n",
       "      <td>0</td>\n",
       "      <td>0</td>\n",
       "      <td>0</td>\n",
       "      <td>0</td>\n",
       "      <td>1</td>\n",
       "      <td>0</td>\n",
       "    </tr>\n",
       "    <tr>\n",
       "      <th>4</th>\n",
       "      <td>50000</td>\n",
       "      <td>37</td>\n",
       "      <td>0</td>\n",
       "      <td>0</td>\n",
       "      <td>0</td>\n",
       "      <td>0</td>\n",
       "      <td>0</td>\n",
       "      <td>0</td>\n",
       "      <td>46990</td>\n",
       "      <td>48233</td>\n",
       "      <td>...</td>\n",
       "      <td>1</td>\n",
       "      <td>0</td>\n",
       "      <td>0</td>\n",
       "      <td>1</td>\n",
       "      <td>0</td>\n",
       "      <td>0</td>\n",
       "      <td>0</td>\n",
       "      <td>1</td>\n",
       "      <td>0</td>\n",
       "      <td>0</td>\n",
       "    </tr>\n",
       "    <tr>\n",
       "      <th>5</th>\n",
       "      <td>50000</td>\n",
       "      <td>57</td>\n",
       "      <td>-1</td>\n",
       "      <td>0</td>\n",
       "      <td>-1</td>\n",
       "      <td>0</td>\n",
       "      <td>0</td>\n",
       "      <td>0</td>\n",
       "      <td>8617</td>\n",
       "      <td>5670</td>\n",
       "      <td>...</td>\n",
       "      <td>0</td>\n",
       "      <td>0</td>\n",
       "      <td>0</td>\n",
       "      <td>1</td>\n",
       "      <td>0</td>\n",
       "      <td>0</td>\n",
       "      <td>0</td>\n",
       "      <td>1</td>\n",
       "      <td>0</td>\n",
       "      <td>0</td>\n",
       "    </tr>\n",
       "    <tr>\n",
       "      <th>...</th>\n",
       "      <td>...</td>\n",
       "      <td>...</td>\n",
       "      <td>...</td>\n",
       "      <td>...</td>\n",
       "      <td>...</td>\n",
       "      <td>...</td>\n",
       "      <td>...</td>\n",
       "      <td>...</td>\n",
       "      <td>...</td>\n",
       "      <td>...</td>\n",
       "      <td>...</td>\n",
       "      <td>...</td>\n",
       "      <td>...</td>\n",
       "      <td>...</td>\n",
       "      <td>...</td>\n",
       "      <td>...</td>\n",
       "      <td>...</td>\n",
       "      <td>...</td>\n",
       "      <td>...</td>\n",
       "      <td>...</td>\n",
       "      <td>...</td>\n",
       "    </tr>\n",
       "    <tr>\n",
       "      <th>29996</th>\n",
       "      <td>220000</td>\n",
       "      <td>39</td>\n",
       "      <td>0</td>\n",
       "      <td>0</td>\n",
       "      <td>0</td>\n",
       "      <td>0</td>\n",
       "      <td>0</td>\n",
       "      <td>0</td>\n",
       "      <td>188948</td>\n",
       "      <td>192815</td>\n",
       "      <td>...</td>\n",
       "      <td>0</td>\n",
       "      <td>0</td>\n",
       "      <td>0</td>\n",
       "      <td>0</td>\n",
       "      <td>1</td>\n",
       "      <td>0</td>\n",
       "      <td>0</td>\n",
       "      <td>1</td>\n",
       "      <td>0</td>\n",
       "      <td>0</td>\n",
       "    </tr>\n",
       "    <tr>\n",
       "      <th>29997</th>\n",
       "      <td>150000</td>\n",
       "      <td>43</td>\n",
       "      <td>-1</td>\n",
       "      <td>-1</td>\n",
       "      <td>-1</td>\n",
       "      <td>-1</td>\n",
       "      <td>0</td>\n",
       "      <td>0</td>\n",
       "      <td>1683</td>\n",
       "      <td>1828</td>\n",
       "      <td>...</td>\n",
       "      <td>0</td>\n",
       "      <td>0</td>\n",
       "      <td>0</td>\n",
       "      <td>0</td>\n",
       "      <td>1</td>\n",
       "      <td>0</td>\n",
       "      <td>0</td>\n",
       "      <td>0</td>\n",
       "      <td>1</td>\n",
       "      <td>0</td>\n",
       "    </tr>\n",
       "    <tr>\n",
       "      <th>29998</th>\n",
       "      <td>30000</td>\n",
       "      <td>37</td>\n",
       "      <td>4</td>\n",
       "      <td>3</td>\n",
       "      <td>2</td>\n",
       "      <td>-1</td>\n",
       "      <td>0</td>\n",
       "      <td>0</td>\n",
       "      <td>3565</td>\n",
       "      <td>3356</td>\n",
       "      <td>...</td>\n",
       "      <td>0</td>\n",
       "      <td>0</td>\n",
       "      <td>0</td>\n",
       "      <td>1</td>\n",
       "      <td>0</td>\n",
       "      <td>0</td>\n",
       "      <td>0</td>\n",
       "      <td>0</td>\n",
       "      <td>1</td>\n",
       "      <td>0</td>\n",
       "    </tr>\n",
       "    <tr>\n",
       "      <th>29999</th>\n",
       "      <td>80000</td>\n",
       "      <td>41</td>\n",
       "      <td>1</td>\n",
       "      <td>-1</td>\n",
       "      <td>0</td>\n",
       "      <td>0</td>\n",
       "      <td>0</td>\n",
       "      <td>-1</td>\n",
       "      <td>-1645</td>\n",
       "      <td>78379</td>\n",
       "      <td>...</td>\n",
       "      <td>0</td>\n",
       "      <td>0</td>\n",
       "      <td>0</td>\n",
       "      <td>0</td>\n",
       "      <td>1</td>\n",
       "      <td>0</td>\n",
       "      <td>0</td>\n",
       "      <td>1</td>\n",
       "      <td>0</td>\n",
       "      <td>0</td>\n",
       "    </tr>\n",
       "    <tr>\n",
       "      <th>30000</th>\n",
       "      <td>50000</td>\n",
       "      <td>46</td>\n",
       "      <td>0</td>\n",
       "      <td>0</td>\n",
       "      <td>0</td>\n",
       "      <td>0</td>\n",
       "      <td>0</td>\n",
       "      <td>0</td>\n",
       "      <td>47929</td>\n",
       "      <td>48905</td>\n",
       "      <td>...</td>\n",
       "      <td>0</td>\n",
       "      <td>0</td>\n",
       "      <td>0</td>\n",
       "      <td>1</td>\n",
       "      <td>0</td>\n",
       "      <td>0</td>\n",
       "      <td>0</td>\n",
       "      <td>1</td>\n",
       "      <td>0</td>\n",
       "      <td>0</td>\n",
       "    </tr>\n",
       "  </tbody>\n",
       "</table>\n",
       "<p>30000 rows × 31 columns</p>\n",
       "</div>"
      ],
      "text/plain": [
       "       LIMIT_BAL  AGE  PAY_0  PAY_2  PAY_3  PAY_4  PAY_5  PAY_6  BILL_AMT1  \\\n",
       "ID                                                                           \n",
       "1          20000   24      2      2     -1     -1     -2     -2       3913   \n",
       "2         120000   26     -1      2      0      0      0      2       2682   \n",
       "3          90000   34      0      0      0      0      0      0      29239   \n",
       "4          50000   37      0      0      0      0      0      0      46990   \n",
       "5          50000   57     -1      0     -1      0      0      0       8617   \n",
       "...          ...  ...    ...    ...    ...    ...    ...    ...        ...   \n",
       "29996     220000   39      0      0      0      0      0      0     188948   \n",
       "29997     150000   43     -1     -1     -1     -1      0      0       1683   \n",
       "29998      30000   37      4      3      2     -1      0      0       3565   \n",
       "29999      80000   41      1     -1      0      0      0     -1      -1645   \n",
       "30000      50000   46      0      0      0      0      0      0      47929   \n",
       "\n",
       "       BILL_AMT2  ...  SEX_2  EDUCATION_0  EDUCATION_1  EDUCATION_2  \\\n",
       "ID                ...                                                 \n",
       "1           3102  ...      1            0            0            1   \n",
       "2           1725  ...      1            0            0            1   \n",
       "3          14027  ...      1            0            0            1   \n",
       "4          48233  ...      1            0            0            1   \n",
       "5           5670  ...      0            0            0            1   \n",
       "...          ...  ...    ...          ...          ...          ...   \n",
       "29996     192815  ...      0            0            0            0   \n",
       "29997       1828  ...      0            0            0            0   \n",
       "29998       3356  ...      0            0            0            1   \n",
       "29999      78379  ...      0            0            0            0   \n",
       "30000      48905  ...      0            0            0            1   \n",
       "\n",
       "       EDUCATION_3  EDUCATION_4  MARRIAGE_0  MARRIAGE_1  MARRIAGE_2  \\\n",
       "ID                                                                    \n",
       "1                0            0           0           1           0   \n",
       "2                0            0           0           0           1   \n",
       "3                0            0           0           0           1   \n",
       "4                0            0           0           1           0   \n",
       "5                0            0           0           1           0   \n",
       "...            ...          ...         ...         ...         ...   \n",
       "29996            1            0           0           1           0   \n",
       "29997            1            0           0           0           1   \n",
       "29998            0            0           0           0           1   \n",
       "29999            1            0           0           1           0   \n",
       "30000            0            0           0           1           0   \n",
       "\n",
       "       MARRIAGE_3  \n",
       "ID                 \n",
       "1               0  \n",
       "2               0  \n",
       "3               0  \n",
       "4               0  \n",
       "5               0  \n",
       "...           ...  \n",
       "29996           0  \n",
       "29997           0  \n",
       "29998           0  \n",
       "29999           0  \n",
       "30000           0  \n",
       "\n",
       "[30000 rows x 31 columns]"
      ]
     },
     "execution_count": 62,
     "metadata": {},
     "output_type": "execute_result"
    }
   ],
   "source": [
    "if woe_run:\n",
    "    data = pickle.load(open( \"./woe_data_model/processed_data_woe.p\", \"rb\" ) )\n",
    "else:\n",
    "    data = pickle.load(open( \"./processed_data_T1.p\", \"rb\" ) )\n",
    "\n",
    "X = data[\"X\"]\n",
    "y = data[\"y\"]"
   ]
  },
  {
   "cell_type": "markdown",
   "id": "silver-currency",
   "metadata": {},
   "source": [
    "# Train test split\n",
    "data were split into two set (70%/30%)."
   ]
  },
  {
   "cell_type": "code",
   "execution_count": 63,
   "id": "proof-general",
   "metadata": {},
   "outputs": [],
   "source": [
    "X_train, X_test, y_train, y_test = train_test_split(X,y, test_size = 0.3, random_state = 10, stratify=y)"
   ]
  },
  {
   "cell_type": "markdown",
   "id": "loving-superintendent",
   "metadata": {},
   "source": [
    "# Cross validation"
   ]
  },
  {
   "cell_type": "markdown",
   "id": "broken-improvement",
   "metadata": {},
   "source": [
    "## param_grid\n",
    "- this cross-validation was run using param_grid1 firstly\n",
    "- some variables reached the boundary settings in the first cross-validation using param_grid1\n",
    "- param_grid2 was defined to adjust the boundary to search again to ensure the reliability"
   ]
  },
  {
   "cell_type": "code",
   "execution_count": 6,
   "id": "silver-promotion",
   "metadata": {},
   "outputs": [],
   "source": [
    "# grid data to search\n",
    "param_grid1 = {\n",
    "    'max_depth': [6, 9, 12],\n",
    "    'learning_rate':[0.01, 0.1, 0.9],\n",
    "    'gamma': [0, 0.5, 1],\n",
    "    'reg_lambda': [0, 5, 10],\n",
    "    'scale_pos_weight': [3, 9]\n",
    "}"
   ]
  },
  {
   "cell_type": "code",
   "execution_count": 7,
   "id": "agreed-button",
   "metadata": {},
   "outputs": [],
   "source": [
    "param_grid2 = {\n",
    "    'max_depth': [6],\n",
    "    'learning_rate':[0.1],\n",
    "    'gamma': [0],\n",
    "    'reg_lambda': [10, 20, 30],\n",
    "    'scale_pos_weight': [3]\n",
    "}"
   ]
  },
  {
   "cell_type": "markdown",
   "id": "internal-lounge",
   "metadata": {},
   "source": [
    "# GridSearchCV\n",
    "please check the param_grid in the argument to make sure the correct param grid is used."
   ]
  },
  {
   "cell_type": "code",
   "execution_count": 19,
   "id": "bored-edition",
   "metadata": {},
   "outputs": [
    {
     "name": "stdout",
     "output_type": "stream",
     "text": [
      "Fitting 3 folds for each of 3 candidates, totalling 9 fits\n",
      "[13:42:52] WARNING: /Users/travis/build/dmlc/xgboost/src/learner.cc:1061: Starting in XGBoost 1.3.0, the default evaluation metric used with the objective 'binary:logistic' was changed from 'error' to 'logloss'. Explicitly set eval_metric if you'd like to restore the old behavior.\n"
     ]
    },
    {
     "data": {
      "text/plain": [
       "GridSearchCV(cv=3,\n",
       "             estimator=XGBClassifier(base_score=None, booster=None,\n",
       "                                     colsample_bylevel=None,\n",
       "                                     colsample_bynode=None,\n",
       "                                     colsample_bytree=0.8, gamma=None,\n",
       "                                     gpu_id=None, importance_type='gain',\n",
       "                                     interaction_constraints=None,\n",
       "                                     learning_rate=None, max_delta_step=None,\n",
       "                                     max_depth=None, min_child_weight=None,\n",
       "                                     missing=nan, monotone_constraints=None,\n",
       "                                     n_estimators=100, n_jobs=None,\n",
       "                                     num_parallel_tree=None, random_state=10,\n",
       "                                     reg_alpha=None, reg_lambda=None,\n",
       "                                     scale_pos_weight=None, subsample=0.8,\n",
       "                                     tree_method=None, use_label_encoder=False,\n",
       "                                     validate_parameters=None, verbosity=None),\n",
       "             n_jobs=5,\n",
       "             param_grid={'gamma': [0], 'learning_rate': [0.1], 'max_depth': [6],\n",
       "                         'reg_lambda': [10, 20, 30], 'scale_pos_weight': [3]},\n",
       "             scoring='average_precision', verbose=2)"
      ]
     },
     "execution_count": 19,
     "metadata": {},
     "output_type": "execute_result"
    }
   ],
   "source": [
    "optimal_params = GridSearchCV(estimator = xgb.XGBClassifier(objective=\"binary:logistic\", \n",
    "                                                            random_state = 10, \n",
    "                                                            subsample=0.8,\n",
    "                                                            colsample_bytree=0.8, \n",
    "                                                            use_label_encoder=False),\n",
    "                              param_grid=param_grid2,\n",
    "                             scoring=\"average_precision\",cv=3, verbose=2, n_jobs=5)\n",
    "optimal_params.fit(X_train, y_train)"
   ]
  },
  {
   "cell_type": "code",
   "execution_count": 8,
   "id": "breathing-princess",
   "metadata": {},
   "outputs": [
    {
     "ename": "NameError",
     "evalue": "name 'optimal_params' is not defined",
     "output_type": "error",
     "traceback": [
      "\u001b[0;31m---------------------------------------------------------------------------\u001b[0m",
      "\u001b[0;31mNameError\u001b[0m                                 Traceback (most recent call last)",
      "\u001b[0;32m<ipython-input-8-b01966cb459c>\u001b[0m in \u001b[0;36m<module>\u001b[0;34m\u001b[0m\n\u001b[0;32m----> 1\u001b[0;31m \u001b[0moptimal_params\u001b[0m\u001b[0;34m.\u001b[0m\u001b[0mbest_params_\u001b[0m\u001b[0;34m\u001b[0m\u001b[0;34m\u001b[0m\u001b[0m\n\u001b[0m",
      "\u001b[0;31mNameError\u001b[0m: name 'optimal_params' is not defined"
     ]
    }
   ],
   "source": [
    "optimal_params.best_params_"
   ]
  },
  {
   "cell_type": "code",
   "execution_count": 21,
   "id": "demonstrated-gospel",
   "metadata": {},
   "outputs": [
    {
     "data": {
      "text/plain": [
       "0.5564979745462204"
      ]
     },
     "execution_count": 21,
     "metadata": {},
     "output_type": "execute_result"
    }
   ],
   "source": [
    "optimal_params.best_score_"
   ]
  },
  {
   "cell_type": "markdown",
   "id": "korean-growth",
   "metadata": {},
   "source": [
    "# Save parameters\n",
    "- without woe: T1 processed data -> ./cv_optimal_params_with_paramgrid2.p\n",
    "- with woe: woe processed data -> ./woe_data_model/cv_optimal_params_with_paramgrid2.p"
   ]
  },
  {
   "cell_type": "markdown",
   "id": "romance-volume",
   "metadata": {},
   "source": [
    "# best params save\n"
   ]
  },
  {
   "cell_type": "code",
   "execution_count": 22,
   "id": "pharmaceutical-guyana",
   "metadata": {},
   "outputs": [],
   "source": [
    "# pickle.dump( {\"optimal_params\": optimal_params}, open( \"./woe_data_model/cv_optimal_params_with_paramgrid2.p\", \"wb\" ) )"
   ]
  },
  {
   "cell_type": "markdown",
   "id": "posted-turner",
   "metadata": {},
   "source": [
    "# Model fit\n",
    "use the best hyperparameters and all the data in training set to fit the mdoel again"
   ]
  },
  {
   "cell_type": "code",
   "execution_count": 64,
   "id": "ultimate-concrete",
   "metadata": {},
   "outputs": [],
   "source": [
    "xgb_model = xgb.XGBClassifier(objective=\"binary:logistic\", random_state = 10, \n",
    "                                                             gamma = 1,\n",
    "                                                          reg_lambda = 10,\n",
    "                                                            max_depth = 6,\n",
    "                                                      scale_pos_weight = 9,\n",
    "                                                       learning_rate = 0.1,\n",
    "                                                       colsample_bytree=0.8,subsample=0.8,\n",
    "                              \n",
    "                                                            use_label_encoder=False)"
   ]
  },
  {
   "cell_type": "code",
   "execution_count": 65,
   "id": "vital-ontario",
   "metadata": {},
   "outputs": [
    {
     "name": "stdout",
     "output_type": "stream",
     "text": [
      "[0]\tvalidation_0-aucpr:0.51242\n",
      "[1]\tvalidation_0-aucpr:0.52065\n",
      "[2]\tvalidation_0-aucpr:0.52280\n",
      "[3]\tvalidation_0-aucpr:0.52411\n",
      "[4]\tvalidation_0-aucpr:0.52612\n",
      "[5]\tvalidation_0-aucpr:0.54052\n",
      "[6]\tvalidation_0-aucpr:0.54129\n",
      "[7]\tvalidation_0-aucpr:0.54234\n",
      "[8]\tvalidation_0-aucpr:0.54164\n",
      "[9]\tvalidation_0-aucpr:0.54345\n",
      "[10]\tvalidation_0-aucpr:0.54236\n",
      "[11]\tvalidation_0-aucpr:0.54304\n",
      "[12]\tvalidation_0-aucpr:0.54154\n",
      "[13]\tvalidation_0-aucpr:0.54330\n",
      "[14]\tvalidation_0-aucpr:0.54234\n",
      "[15]\tvalidation_0-aucpr:0.54367\n",
      "[16]\tvalidation_0-aucpr:0.54265\n",
      "[17]\tvalidation_0-aucpr:0.54385\n",
      "[18]\tvalidation_0-aucpr:0.54456\n",
      "[19]\tvalidation_0-aucpr:0.54534\n",
      "[20]\tvalidation_0-aucpr:0.54456\n",
      "[21]\tvalidation_0-aucpr:0.54450\n",
      "[22]\tvalidation_0-aucpr:0.54610\n",
      "[23]\tvalidation_0-aucpr:0.54654\n",
      "[24]\tvalidation_0-aucpr:0.54584\n",
      "[25]\tvalidation_0-aucpr:0.54583\n",
      "[26]\tvalidation_0-aucpr:0.54533\n",
      "[27]\tvalidation_0-aucpr:0.54671\n",
      "[28]\tvalidation_0-aucpr:0.54666\n",
      "[29]\tvalidation_0-aucpr:0.54724\n",
      "[30]\tvalidation_0-aucpr:0.54609\n",
      "[31]\tvalidation_0-aucpr:0.54618\n",
      "[32]\tvalidation_0-aucpr:0.54616\n",
      "[33]\tvalidation_0-aucpr:0.54645\n",
      "[34]\tvalidation_0-aucpr:0.54623\n",
      "[35]\tvalidation_0-aucpr:0.54612\n",
      "[36]\tvalidation_0-aucpr:0.54700\n",
      "[37]\tvalidation_0-aucpr:0.54745\n",
      "[38]\tvalidation_0-aucpr:0.54855\n",
      "[39]\tvalidation_0-aucpr:0.54859\n",
      "[40]\tvalidation_0-aucpr:0.54824\n",
      "[41]\tvalidation_0-aucpr:0.54942\n",
      "[42]\tvalidation_0-aucpr:0.54897\n",
      "[43]\tvalidation_0-aucpr:0.54874\n",
      "[44]\tvalidation_0-aucpr:0.54924\n",
      "[45]\tvalidation_0-aucpr:0.54928\n",
      "[46]\tvalidation_0-aucpr:0.54966\n",
      "[47]\tvalidation_0-aucpr:0.54892\n",
      "[48]\tvalidation_0-aucpr:0.54966\n",
      "[49]\tvalidation_0-aucpr:0.54999\n",
      "[50]\tvalidation_0-aucpr:0.54977\n",
      "[51]\tvalidation_0-aucpr:0.54970\n",
      "[52]\tvalidation_0-aucpr:0.54980\n",
      "[53]\tvalidation_0-aucpr:0.54916\n",
      "[54]\tvalidation_0-aucpr:0.54880\n",
      "[55]\tvalidation_0-aucpr:0.54878\n",
      "[56]\tvalidation_0-aucpr:0.54885\n",
      "[57]\tvalidation_0-aucpr:0.54875\n",
      "[58]\tvalidation_0-aucpr:0.54786\n"
     ]
    },
    {
     "data": {
      "text/plain": [
       "XGBClassifier(base_score=0.5, booster='gbtree', colsample_bylevel=1,\n",
       "              colsample_bynode=1, colsample_bytree=0.8, gamma=1, gpu_id=-1,\n",
       "              importance_type='gain', interaction_constraints='',\n",
       "              learning_rate=0.1, max_delta_step=0, max_depth=6,\n",
       "              min_child_weight=1, missing=nan, monotone_constraints='()',\n",
       "              n_estimators=100, n_jobs=8, num_parallel_tree=1, random_state=10,\n",
       "              reg_alpha=0, reg_lambda=10, scale_pos_weight=9, subsample=0.8,\n",
       "              tree_method='exact', use_label_encoder=False,\n",
       "              validate_parameters=1, verbosity=None)"
      ]
     },
     "execution_count": 65,
     "metadata": {},
     "output_type": "execute_result"
    }
   ],
   "source": [
    "xgb_model.fit(X_train, y_train, verbose=True, early_stopping_rounds = 10, eval_metric=\"aucpr\",eval_set=[(X_test,y_test)])"
   ]
  },
  {
   "cell_type": "markdown",
   "id": "detected-times",
   "metadata": {},
   "source": [
    "# Test"
   ]
  },
  {
   "cell_type": "code",
   "execution_count": 66,
   "id": "dirty-burns",
   "metadata": {},
   "outputs": [
    {
     "data": {
      "text/plain": [
       "0.5502431743045912"
      ]
     },
     "execution_count": 66,
     "metadata": {},
     "output_type": "execute_result"
    }
   ],
   "source": [
    "y_pred = xgb_model.predict(X_test)\n",
    "cm = confusion_matrix(y_test, y_pred)\n",
    "recall_val = cm[1,1] / (cm[1,0]+cm[1,1])\n",
    "y_prob = xgb_model.predict_proba(X_test)\n",
    "average_precision_score(y_test, y_prob[:,1])"
   ]
  },
  {
   "cell_type": "code",
   "execution_count": 67,
   "id": "enhanced-cursor",
   "metadata": {},
   "outputs": [
    {
     "data": {
      "text/plain": [
       "<sklearn.metrics._plot.confusion_matrix.ConfusionMatrixDisplay at 0x12836fe80>"
      ]
     },
     "execution_count": 67,
     "metadata": {},
     "output_type": "execute_result"
    },
    {
     "data": {
      "image/png": "[encoded data removed]",
      "text/plain": [
       "<Figure size 432x288 with 2 Axes>"
      ]
     },
     "metadata": {
      "needs_background": "light"
     },
     "output_type": "display_data"
    }
   ],
   "source": [
    "plot_confusion_matrix(xgb_model, X_test,y_test, display_labels=[\"Default not on the loan\", \"Default on the loan\"])"
   ]
  },
  {
   "cell_type": "markdown",
   "id": "excited-halloween",
   "metadata": {},
   "source": [
    "# Save fitted model\n",
    "without woe: T1 processed model : \"./model_cv_xgb.p\"\n",
    "\n",
    "with woe -> woe processed model \"./woe_data_model/model_woe_xgb.p\""
   ]
  },
  {
   "cell_type": "code",
   "execution_count": 68,
   "id": "ambient-arizona",
   "metadata": {},
   "outputs": [],
   "source": [
    "pickle.dump({\"xgb_model\": xgb_model}, open( \"./model_cv_xgb.p\", \"wb\" ) )"
   ]
  },
  {
   "cell_type": "markdown",
   "id": "removed-content",
   "metadata": {},
   "source": [
    "# Results\n",
    "- without woe: T1 processed model -> aucpr 0.5502431743045912, recall 0.8874937217478654\n",
    "\n",
    "- with woe: woe processed model -> aucpr 0.5570952700328535, recall 0.903566047212456"
   ]
  },
  {
   "cell_type": "markdown",
   "id": "figured-hostel",
   "metadata": {},
   "source": [
    "# Predict\n"
   ]
  }
 ],
 "metadata": {
  "kernelspec": {
   "display_name": "myenv",
   "language": "python",
   "name": "myenv"
  },
  "language_info": {
   "codemirror_mode": {
    "name": "ipython",
    "version": 3
   },
   "file_extension": ".py",
   "mimetype": "text/x-python",
   "name": "python",
   "nbconvert_exporter": "python",
   "pygments_lexer": "ipython3",
   "version": "3.8.2"
  }
 },
 "nbformat": 4,
 "nbformat_minor": 5
}
