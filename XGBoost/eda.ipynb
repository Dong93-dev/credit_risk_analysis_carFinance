{
 "cells": [
  {
   "cell_type": "markdown",
   "id": "acquired-teach",
   "metadata": {},
   "source": [
    "# Data analysis before modelling\n"
   ]
  },
  {
   "cell_type": "markdown",
   "id": "governing-reward",
   "metadata": {},
   "source": [
    "# Module import "
   ]
  },
  {
   "cell_type": "code",
   "execution_count": 1,
   "id": "proprietary-westminster",
   "metadata": {},
   "outputs": [],
   "source": [
    "import pandas as pd\n",
    "import xgboost as xgb\n",
    "import numpy as np\n",
    "import pickle\n",
    "import matplotlib.pyplot as plt\n",
    "from sklearn.metrics import f1_score\n",
    "from sklearn.model_selection import train_test_split\n",
    "from sklearn.metrics import plot_confusion_matrix, confusion_matrix\n",
    "from sklearn.metrics import recall_score, precision_recall_curve, average_precision_score"
   ]
  },
  {
   "cell_type": "markdown",
   "id": "concrete-segment",
   "metadata": {},
   "source": [
    "# Util function"
   ]
  },
  {
   "cell_type": "code",
   "execution_count": 2,
   "id": "decent-joyce",
   "metadata": {},
   "outputs": [],
   "source": [
    "def remove_skewed_columns(df):\n",
    "# this function was used to remove the column that has only one value\n",
    "    for column in df:\n",
    "        if len(df[column].unique()) == 1:\n",
    "            df.drop(columns=column, inplace=True)\n",
    "    return df"
   ]
  },
  {
   "cell_type": "markdown",
   "id": "secure-psychiatry",
   "metadata": {},
   "source": [
    "# Load data and inspection\n",
    "- flag: woe_run. If woe_run = True, credit_risk_data after woe trasformation will be loaded (\"../woe_transformation/dataset_test_woed.csv\"). If woe_run = False, raw credit_risk_data will be loaded (\"../credit_risk_data.csv\").\n",
    "- woe transformed data was stored in \"../woe_transformation/woe_transformed_credit_dataset.csv\" "
   ]
  },
  {
   "cell_type": "code",
   "execution_count": 3,
   "id": "extended-pattern",
   "metadata": {},
   "outputs": [],
   "source": [
    "woe_run = True"
   ]
  },
  {
   "cell_type": "code",
   "execution_count": 4,
   "id": "imported-particle",
   "metadata": {},
   "outputs": [
    {
     "data": {
      "text/html": [
       "<div>\n",
       "<style scoped>\n",
       "    .dataframe tbody tr th:only-of-type {\n",
       "        vertical-align: middle;\n",
       "    }\n",
       "\n",
       "    .dataframe tbody tr th {\n",
       "        vertical-align: top;\n",
       "    }\n",
       "\n",
       "    .dataframe thead th {\n",
       "        text-align: right;\n",
       "    }\n",
       "</style>\n",
       "<table border=\"1\" class=\"dataframe\">\n",
       "  <thead>\n",
       "    <tr style=\"text-align: right;\">\n",
       "      <th></th>\n",
       "      <th>LIMIT_BAL</th>\n",
       "      <th>SEX</th>\n",
       "      <th>EDUCATION</th>\n",
       "      <th>MARRIAGE</th>\n",
       "      <th>AGE</th>\n",
       "      <th>PAY_0</th>\n",
       "      <th>PAY_2</th>\n",
       "      <th>PAY_3</th>\n",
       "      <th>PAY_4</th>\n",
       "      <th>PAY_5</th>\n",
       "      <th>...</th>\n",
       "      <th>BILL_AMT4</th>\n",
       "      <th>BILL_AMT5</th>\n",
       "      <th>BILL_AMT6</th>\n",
       "      <th>PAY_AMT1</th>\n",
       "      <th>PAY_AMT2</th>\n",
       "      <th>PAY_AMT3</th>\n",
       "      <th>PAY_AMT4</th>\n",
       "      <th>PAY_AMT5</th>\n",
       "      <th>PAY_AMT6</th>\n",
       "      <th>default payment next month</th>\n",
       "    </tr>\n",
       "    <tr>\n",
       "      <th>ID</th>\n",
       "      <th></th>\n",
       "      <th></th>\n",
       "      <th></th>\n",
       "      <th></th>\n",
       "      <th></th>\n",
       "      <th></th>\n",
       "      <th></th>\n",
       "      <th></th>\n",
       "      <th></th>\n",
       "      <th></th>\n",
       "      <th></th>\n",
       "      <th></th>\n",
       "      <th></th>\n",
       "      <th></th>\n",
       "      <th></th>\n",
       "      <th></th>\n",
       "      <th></th>\n",
       "      <th></th>\n",
       "      <th></th>\n",
       "      <th></th>\n",
       "      <th></th>\n",
       "    </tr>\n",
       "  </thead>\n",
       "  <tbody>\n",
       "    <tr>\n",
       "      <th>1</th>\n",
       "      <td>0.692865</td>\n",
       "      <td>-0.079777</td>\n",
       "      <td>0.091416</td>\n",
       "      <td>0.076822</td>\n",
       "      <td>0.041466</td>\n",
       "      <td>2.065423</td>\n",
       "      <td>1.473415</td>\n",
       "      <td>-0.430029</td>\n",
       "      <td>-0.407307</td>\n",
       "      <td>-0.147246</td>\n",
       "      <td>...</td>\n",
       "      <td>0.061971</td>\n",
       "      <td>0.111703</td>\n",
       "      <td>0.056681</td>\n",
       "      <td>0.677342</td>\n",
       "      <td>0.012750</td>\n",
       "      <td>0.521223</td>\n",
       "      <td>0.463320</td>\n",
       "      <td>0.382161</td>\n",
       "      <td>0.361833</td>\n",
       "      <td>1</td>\n",
       "    </tr>\n",
       "    <tr>\n",
       "      <th>2</th>\n",
       "      <td>0.103760</td>\n",
       "      <td>-0.079777</td>\n",
       "      <td>0.091416</td>\n",
       "      <td>-0.072942</td>\n",
       "      <td>0.041466</td>\n",
       "      <td>-0.342752</td>\n",
       "      <td>1.473415</td>\n",
       "      <td>-0.295297</td>\n",
       "      <td>-0.235542</td>\n",
       "      <td>-0.200910</td>\n",
       "      <td>...</td>\n",
       "      <td>-0.341374</td>\n",
       "      <td>-0.383466</td>\n",
       "      <td>-0.434588</td>\n",
       "      <td>0.677342</td>\n",
       "      <td>0.053114</td>\n",
       "      <td>0.098836</td>\n",
       "      <td>0.046470</td>\n",
       "      <td>0.382161</td>\n",
       "      <td>0.007203</td>\n",
       "      <td>1</td>\n",
       "    </tr>\n",
       "    <tr>\n",
       "      <th>3</th>\n",
       "      <td>0.103760</td>\n",
       "      <td>-0.079777</td>\n",
       "      <td>0.091416</td>\n",
       "      <td>-0.072942</td>\n",
       "      <td>-0.161146</td>\n",
       "      <td>-0.659061</td>\n",
       "      <td>-0.406083</td>\n",
       "      <td>-0.295297</td>\n",
       "      <td>-0.235542</td>\n",
       "      <td>-0.200910</td>\n",
       "      <td>...</td>\n",
       "      <td>-0.023247</td>\n",
       "      <td>0.119063</td>\n",
       "      <td>0.121763</td>\n",
       "      <td>0.120994</td>\n",
       "      <td>0.174191</td>\n",
       "      <td>0.098836</td>\n",
       "      <td>0.046470</td>\n",
       "      <td>0.026641</td>\n",
       "      <td>-0.370422</td>\n",
       "      <td>0</td>\n",
       "    </tr>\n",
       "    <tr>\n",
       "      <th>4</th>\n",
       "      <td>0.273008</td>\n",
       "      <td>-0.079777</td>\n",
       "      <td>0.091416</td>\n",
       "      <td>0.076822</td>\n",
       "      <td>0.052545</td>\n",
       "      <td>-0.659061</td>\n",
       "      <td>-0.406083</td>\n",
       "      <td>-0.295297</td>\n",
       "      <td>-0.235542</td>\n",
       "      <td>-0.200910</td>\n",
       "      <td>...</td>\n",
       "      <td>0.178366</td>\n",
       "      <td>0.202243</td>\n",
       "      <td>0.226296</td>\n",
       "      <td>0.043100</td>\n",
       "      <td>-0.183815</td>\n",
       "      <td>-0.083967</td>\n",
       "      <td>0.046470</td>\n",
       "      <td>0.026641</td>\n",
       "      <td>-0.094260</td>\n",
       "      <td>0</td>\n",
       "    </tr>\n",
       "    <tr>\n",
       "      <th>5</th>\n",
       "      <td>0.273008</td>\n",
       "      <td>0.115154</td>\n",
       "      <td>0.091416</td>\n",
       "      <td>0.076822</td>\n",
       "      <td>0.052545</td>\n",
       "      <td>-0.342752</td>\n",
       "      <td>-0.406083</td>\n",
       "      <td>-0.430029</td>\n",
       "      <td>-0.235542</td>\n",
       "      <td>-0.200910</td>\n",
       "      <td>...</td>\n",
       "      <td>0.243437</td>\n",
       "      <td>0.247299</td>\n",
       "      <td>0.301036</td>\n",
       "      <td>0.043100</td>\n",
       "      <td>-1.125815</td>\n",
       "      <td>-0.541741</td>\n",
       "      <td>-0.449736</td>\n",
       "      <td>0.181627</td>\n",
       "      <td>0.236430</td>\n",
       "      <td>0</td>\n",
       "    </tr>\n",
       "  </tbody>\n",
       "</table>\n",
       "<p>5 rows × 24 columns</p>\n",
       "</div>"
      ],
      "text/plain": [
       "    LIMIT_BAL       SEX  EDUCATION  MARRIAGE       AGE     PAY_0     PAY_2  \\\n",
       "ID                                                                           \n",
       "1    0.692865 -0.079777   0.091416  0.076822  0.041466  2.065423  1.473415   \n",
       "2    0.103760 -0.079777   0.091416 -0.072942  0.041466 -0.342752  1.473415   \n",
       "3    0.103760 -0.079777   0.091416 -0.072942 -0.161146 -0.659061 -0.406083   \n",
       "4    0.273008 -0.079777   0.091416  0.076822  0.052545 -0.659061 -0.406083   \n",
       "5    0.273008  0.115154   0.091416  0.076822  0.052545 -0.342752 -0.406083   \n",
       "\n",
       "       PAY_3     PAY_4     PAY_5  ...  BILL_AMT4  BILL_AMT5  BILL_AMT6  \\\n",
       "ID                                ...                                    \n",
       "1  -0.430029 -0.407307 -0.147246  ...   0.061971   0.111703   0.056681   \n",
       "2  -0.295297 -0.235542 -0.200910  ...  -0.341374  -0.383466  -0.434588   \n",
       "3  -0.295297 -0.235542 -0.200910  ...  -0.023247   0.119063   0.121763   \n",
       "4  -0.295297 -0.235542 -0.200910  ...   0.178366   0.202243   0.226296   \n",
       "5  -0.430029 -0.235542 -0.200910  ...   0.243437   0.247299   0.301036   \n",
       "\n",
       "    PAY_AMT1  PAY_AMT2  PAY_AMT3  PAY_AMT4  PAY_AMT5  PAY_AMT6  \\\n",
       "ID                                                               \n",
       "1   0.677342  0.012750  0.521223  0.463320  0.382161  0.361833   \n",
       "2   0.677342  0.053114  0.098836  0.046470  0.382161  0.007203   \n",
       "3   0.120994  0.174191  0.098836  0.046470  0.026641 -0.370422   \n",
       "4   0.043100 -0.183815 -0.083967  0.046470  0.026641 -0.094260   \n",
       "5   0.043100 -1.125815 -0.541741 -0.449736  0.181627  0.236430   \n",
       "\n",
       "    default payment next month  \n",
       "ID                              \n",
       "1                            1  \n",
       "2                            1  \n",
       "3                            0  \n",
       "4                            0  \n",
       "5                            0  \n",
       "\n",
       "[5 rows x 24 columns]"
      ]
     },
     "execution_count": 4,
     "metadata": {},
     "output_type": "execute_result"
    }
   ],
   "source": [
    "# load the file\n",
    "if woe_run: \n",
    "    df = pd.read_csv(\"../woe_transformation/woe_transformed_credit_dataset.csv\", index_col=[\"ID\"])\n",
    "    df.drop( \"Unnamed: 0\", axis=1, inplace=True)\n",
    "    df.rename(columns={\"target\": \"default payment next month\"}, inplace=True)\n",
    "else:\n",
    "    df = pd.read_csv(\"../credit_risk_data.csv\", skiprows=1, index_col=\"ID\")\n",
    "\n",
    "scale_pos_weight = round(sum(abs(df[\"default payment next month\"] - 1))/sum(df[\"default payment next month\"]))\n",
    "df.head()\n"
   ]
  },
  {
   "cell_type": "markdown",
   "id": "divine-cylinder",
   "metadata": {},
   "source": [
    "# Data preprocessing"
   ]
  },
  {
   "cell_type": "markdown",
   "id": "crazy-advisory",
   "metadata": {},
   "source": [
    "## Skewed columns\n",
    "- remove the columns with the same value, whichwill not contribute to the classification"
   ]
  },
  {
   "cell_type": "code",
   "execution_count": 32,
   "id": "steady-reflection",
   "metadata": {},
   "outputs": [],
   "source": [
    "df = remove_skewed_columns(df)"
   ]
  },
  {
   "cell_type": "markdown",
   "id": "incorporated-sheet",
   "metadata": {},
   "source": [
    "## Zero data\n",
    "- if woe_run = True, woe_transformation will be used. No code in this block will be executed\n",
    "- if woe_run = False, you need to choose \n",
    "    - T1: treat all the unreasonable data as missing data and labeled 0.\n",
    "    - T2: treat all the unreasonable data as most frequent value in this column\n",
    "    - T3: treat all the unreasonable data as missing data and labeled 0, and for pay status, set 0 for all negatives and 1 for positives\n",
    "- if woe_run = False, one-hot encoding will be implemented on columns \"SEX\", \"EDUCATION\", \"MARRIAGE\""
   ]
  },
  {
   "cell_type": "code",
   "execution_count": 33,
   "id": "clinical-belfast",
   "metadata": {},
   "outputs": [],
   "source": [
    "Test = \"T2\""
   ]
  },
  {
   "cell_type": "code",
   "execution_count": 34,
   "id": "approved-article",
   "metadata": {},
   "outputs": [],
   "source": [
    "if not woe_run:\n",
    "    if Test == \"T1\":\n",
    "        df[\"EDUCATION\"][df[\"EDUCATION\"] == 5] = 0\n",
    "        df[\"EDUCATION\"][df[\"EDUCATION\"] == 6] = 0\n",
    "    elif Test == \"T2\":\n",
    "        count = 0\n",
    "        for i in range(5):\n",
    "            if sum(df[\"EDUCATION\"]==i) > count:\n",
    "                count = sum(df[\"EDUCATION\"]==i)\n",
    "                max = i\n",
    "        df[\"EDUCATION\"][df[\"EDUCATION\"] == 5] = max\n",
    "        df[\"EDUCATION\"][df[\"EDUCATION\"] == 6] = max\n",
    "\n",
    "    elif Test == \"T3\":\n",
    "        df[\"EDUCATION\"][df[\"EDUCATION\"] == 5] = 0\n",
    "        df[\"EDUCATION\"][df[\"EDUCATION\"] == 6] = 0\n",
    "        for i in [0, 2, 3, 4, 5, 6]:\n",
    "            df[\"PAY_\" + str(i)][df[\"PAY_\" + str(i)] < 0] = 0\n",
    "            df[\"PAY_\" + str(i)][df[\"PAY_\" + str(i)] > 0] = 1\n",
    "# one-hot encoding, convert \"SEX\", \"EDUCATION\", \"MARRIAGE\" to category data using one-hot encode\n",
    "    df_encoded = pd.get_dummies(df,columns=[\"SEX\", \"EDUCATION\", \"MARRIAGE\"])\n",
    "else:\n",
    "    df_encoded = df\n",
    "# len(df[\"PAY_\" + str(0)][df[\"PAY_\" + str(i)] < 0])\n",
    "    "
   ]
  },
  {
   "cell_type": "markdown",
   "id": "differential-weapon",
   "metadata": {},
   "source": [
    "# Feature selection\n",
    "compare the model behaviours with different features using AUC_pr. One feature was removed in each iteration. If auc_pr value is enhanced, the feature will be removed. Otherwise, the feature will be kept."
   ]
  },
  {
   "cell_type": "markdown",
   "id": "renewable-parking",
   "metadata": {},
   "source": [
    "## Train and test data split"
   ]
  },
  {
   "cell_type": "code",
   "execution_count": 35,
   "id": "running-girlfriend",
   "metadata": {},
   "outputs": [],
   "source": [
    "X = df_encoded.drop(\"default payment next month\", axis=1).copy()\n",
    "y = df_encoded[\"default payment next month\"].copy()\n",
    "X_train, X_test, y_train, y_test = train_test_split(X,y, test_size=0.2, random_state = 8, stratify = y)"
   ]
  },
  {
   "cell_type": "markdown",
   "id": "technological-revision",
   "metadata": {},
   "source": [
    "## Baseline model\n",
    "- all features included"
   ]
  },
  {
   "cell_type": "code",
   "execution_count": 36,
   "id": "sensitive-handy",
   "metadata": {},
   "outputs": [
    {
     "name": "stdout",
     "output_type": "stream",
     "text": [
      "[0]\tvalidation_0-aucpr:0.51990\n",
      "[1]\tvalidation_0-aucpr:0.52328\n",
      "[2]\tvalidation_0-aucpr:0.52945\n",
      "[3]\tvalidation_0-aucpr:0.52703\n",
      "[4]\tvalidation_0-aucpr:0.52478\n",
      "[5]\tvalidation_0-aucpr:0.52834\n",
      "[6]\tvalidation_0-aucpr:0.52933\n",
      "[7]\tvalidation_0-aucpr:0.53030\n",
      "[8]\tvalidation_0-aucpr:0.52887\n",
      "[9]\tvalidation_0-aucpr:0.52911\n",
      "[10]\tvalidation_0-aucpr:0.52868\n",
      "[11]\tvalidation_0-aucpr:0.52617\n",
      "[12]\tvalidation_0-aucpr:0.52629\n",
      "[13]\tvalidation_0-aucpr:0.52803\n",
      "[14]\tvalidation_0-aucpr:0.52693\n",
      "[15]\tvalidation_0-aucpr:0.52766\n",
      "[16]\tvalidation_0-aucpr:0.52752\n"
     ]
    }
   ],
   "source": [
    "# fit the model with all features\n",
    "trial_xgb = xgb.XGBClassifier(n_estimators= 40,objective=\"binary:logistic\", verbosity = 0, scale_pos_weight = scale_pos_weight, use_label_encoder=False, random_state = 10)\n",
    "trial_xgb.fit(X_train, y_train, verbose=True , early_stopping_rounds = 10, eval_metric=\"aucpr\",eval_set=[(X_test,y_test)])\n",
    "trial_auc = np.array(trial_xgb.evals_result()['validation_0']['aucpr']).max()\n",
    "# plot_confusion_matrix(trial_xgb, X_test,y_test, display_labels=[\"Default not on the loan\", \"Default on the loan\"]) \n",
    "# trial_xgb.evals_result()\n"
   ]
  },
  {
   "cell_type": "markdown",
   "id": "dimensional-glenn",
   "metadata": {},
   "source": [
    "# Feature iteration\n",
    "- the removed columns will be recorded in removed_cols"
   ]
  },
  {
   "cell_type": "code",
   "execution_count": 26,
   "id": "coupled-athletics",
   "metadata": {},
   "outputs": [
    {
     "data": {
      "text/plain": [
       "[]"
      ]
     },
     "execution_count": 26,
     "metadata": {},
     "output_type": "execute_result"
    }
   ],
   "source": [
    "# use auc under pr to calculate the feature, \n",
    "X_copy = X.copy()\n",
    "removed_cols = []\n",
    "for col in X:\n",
    "    X_train, X_test, y_train, y_test = train_test_split(X_copy.drop(col, axis=1).copy(),y, test_size=0.2, random_state = 8, stratify = y)\n",
    "    trial_xgb.fit(X_train, y_train, verbose = False, eval_metric=\"aucpr\",eval_set=[(X_test,y_test)])\n",
    "    # auc under pr\n",
    "    trial_auc2 = np.array(trial_xgb.evals_result()['validation_0']['aucpr']).max()\n",
    "    y_pred = trial_xgb.predict(X_test)\n",
    "    cm = confusion_matrix(y_test, y_pred)\n",
    "    recall_val2 = cm[1,1] / (cm[1,0]+cm[1,1])\n",
    "    if abs(trial_auc2 - trial_auc) > 0.05:\n",
    "        removed_cols.append({\"col\": col, \"aucpr\": trial_auc2})\n",
    "        X_copy.drop(col, axis=1, inplace=True)\n",
    "removed_cols"
   ]
  },
  {
   "cell_type": "code",
   "execution_count": 63,
   "id": "local-credits",
   "metadata": {},
   "outputs": [],
   "source": [
    "# calculate recall value\n",
    "# y_pred = trial_xgb.predict(X_test)\n",
    "# cm = confusion_matrix(y_test, y_pred)\n",
    "# recall_val = cm[1,1] / (cm[1,0]+cm[1,1])\n",
    "# recall_val"
   ]
  },
  {
   "cell_type": "code",
   "execution_count": 27,
   "id": "knowing-lithuania",
   "metadata": {},
   "outputs": [],
   "source": [
    "# plot_confusion_matrix(trial_xgb, X_test, y_test)"
   ]
  },
  {
   "cell_type": "markdown",
   "id": "celtic-lecture",
   "metadata": {},
   "source": [
    "# Feature selection results\n",
    "- no feature should be removed in the situation where T1, T2, T3, and woe transformed were used.\n",
    "- T1 and woe transformed data gave the best performance in the feature selection process"
   ]
  },
  {
   "cell_type": "markdown",
   "id": "national-retrieval",
   "metadata": {},
   "source": [
    "# Save the features\n",
    "- without woe: T1 processed saved data -> \"./processed_data_T1.p\"\n",
    "\n",
    "- with woe: woe processed saved data -> \"./woe_data_model/processed_data_woe.p\""
   ]
  },
  {
   "cell_type": "code",
   "execution_count": 66,
   "id": "incorporate-poker",
   "metadata": {},
   "outputs": [],
   "source": [
    "\n",
    "pickle.dump( {\"X\": X_copy, \"y\": y, \"auc_pr\": trial_xgb.evals_result()['validation_0']['aucpr']}, open( \"./woe_data_model/processed_data_woe.p\", \"wb\" ) )\n"
   ]
  },
  {
   "cell_type": "markdown",
   "id": "increasing-camping",
   "metadata": {},
   "source": [
    "# Plot data\n",
    "this part can be changed for specific purpose"
   ]
  },
  {
   "cell_type": "code",
   "execution_count": 128,
   "id": "fundamental-freeze",
   "metadata": {},
   "outputs": [],
   "source": [
    "# T1_features = pickle.load(open( \"selected_feature_T1.p\", \"rb\" ))\n",
    "# T1_aucpr = T1_features[\"auc_pr\"]"
   ]
  },
  {
   "cell_type": "code",
   "execution_count": 136,
   "id": "capable-celebration",
   "metadata": {},
   "outputs": [
    {
     "data": {
      "image/png": "[encoded data removed]",
      "text/plain": [
       "<Figure size 432x288 with 1 Axes>"
      ]
     },
     "metadata": {
      "needs_background": "light"
     },
     "output_type": "display_data"
    }
   ],
   "source": [
    "# f1 = plt.figure()\n",
    "# t1t3, = plt.plot([x for x in range(len(trial_xgb.evals_result()['validation_0']['aucpr']))], \n",
    "#          np.array(trial_xgb.evals_result()['validation_0']['aucpr'])*100, \"bo-\")\n",
    "\n",
    "# # t1, = plt.plot([x for x in range(len(T1_aucpr))], \n",
    "# #          np.array(T1_aucpr)*100, \"ro-\")\n",
    "# # t2, = plt.plot([x for x in range(len(T2_aucpr))], \n",
    "# #          np.array(T2_aucpr)*100, \"ko-\")\n",
    "\n",
    "# plt.xticks([x for x in range(len(T1_aucpr)) if x % 2 != 0], [x for x in range(len(T1_aucpr)) if x % 2 != 0])\n",
    "# plt.xlabel(\"boosting rounds\", fontsize=15)\n",
    "# plt.ylabel(\"AUC under PR curve (%)\", fontsize=15)\n",
    "# plt.legend([t1, t2, t1t3], [\"T1\", \"T2\", \"T1+T3\"])\n",
    "# f1.savefig('test.jpg', format='jpg', dpi=1200)"
   ]
  },
  {
   "cell_type": "code",
   "execution_count": null,
   "id": "genuine-insulin",
   "metadata": {},
   "outputs": [],
   "source": []
  }
 ],
 "metadata": {
  "kernelspec": {
   "display_name": "myenv",
   "language": "python",
   "name": "myenv"
  },
  "language_info": {
   "codemirror_mode": {
    "name": "ipython",
    "version": 3
   },
   "file_extension": ".py",
   "mimetype": "text/x-python",
   "name": "python",
   "nbconvert_exporter": "python",
   "pygments_lexer": "ipython3",
   "version": "3.8.2"
  }
 },
 "nbformat": 4,
 "nbformat_minor": 5
}
