{
 "cells": [
  {
   "cell_type": "markdown",
   "id": "early-worse",
   "metadata": {},
   "source": [
    "# Cross validation and modelling"
   ]
  },
  {
   "cell_type": "markdown",
   "id": "associate-invasion",
   "metadata": {},
   "source": [
    "# Module import"
   ]
  },
  {
   "cell_type": "code",
   "execution_count": 1,
   "id": "broke-manchester",
   "metadata": {},
   "outputs": [],
   "source": [
    "import pandas as pd\n",
    "import numpy as np\n",
    "import xgboost as xgb\n",
    "import pickle\n",
    "from sklearn.model_selection import train_test_split\n",
    "from sklearn.linear_model import LogisticRegressionCV\n",
    "from sklearn.metrics import plot_confusion_matrix, confusion_matrix\n",
    "from sklearn.metrics import recall_score, precision_recall_curve, average_precision_score, accuracy_score, f1_score"
   ]
  },
  {
   "cell_type": "markdown",
   "id": "executed-instrumentation",
   "metadata": {},
   "source": [
    "# Load data\n",
    "- if woe_run = True, it will load woe transformed related preprocessed data\n",
    "- if woe_run = False, it will load preprocessed data (T3) without woe transformed"
   ]
  },
  {
   "cell_type": "code",
   "execution_count": 2,
   "id": "automotive-thermal",
   "metadata": {},
   "outputs": [],
   "source": [
    "woe_run = True"
   ]
  },
  {
   "cell_type": "code",
   "execution_count": 3,
   "id": "developed-hometown",
   "metadata": {},
   "outputs": [],
   "source": [
    "if woe_run:\n",
    "    data = pickle.load(open( \"./woe_data_model/processed_data_woe.p\", \"rb\" ) )\n",
    "else:\n",
    "    data = pickle.load(open( \"./processed_data_T3.p\", \"rb\" ) )\n",
    "\n",
    "X = data[\"X\"]\n",
    "y = data[\"y\"]"
   ]
  },
  {
   "cell_type": "markdown",
   "id": "naval-breed",
   "metadata": {},
   "source": [
    "# Train test split\n",
    "- data were split into two set (70%/30%)."
   ]
  },
  {
   "cell_type": "code",
   "execution_count": 4,
   "id": "express-difference",
   "metadata": {},
   "outputs": [],
   "source": [
    "X_train, X_test, y_train, y_test = train_test_split(X,y, test_size = 0.3, random_state = 10, stratify=y)"
   ]
  },
  {
   "cell_type": "code",
   "execution_count": 5,
   "id": "sustained-divorce",
   "metadata": {},
   "outputs": [
    {
     "data": {
      "text/plain": [
       "(30000, 23)"
      ]
     },
     "execution_count": 5,
     "metadata": {},
     "output_type": "execute_result"
    }
   ],
   "source": [
    "X.shape"
   ]
  },
  {
   "cell_type": "markdown",
   "id": "sustained-behavior",
   "metadata": {},
   "source": [
    "# Upsampling\n",
    "- in the training set, all 1s data points were copied 4 times and added to the original training set"
   ]
  },
  {
   "cell_type": "code",
   "execution_count": 6,
   "id": "casual-dating",
   "metadata": {},
   "outputs": [
    {
     "data": {
      "text/plain": [
       "(39580, 24)"
      ]
     },
     "execution_count": 6,
     "metadata": {},
     "output_type": "execute_result"
    }
   ],
   "source": [
    "scale_pos_weight = round(sum(abs(y - 1))/sum(y))\n",
    "data_train = np.concatenate((X_train, np.array([y_train]).T), axis=1)\n",
    "data_train_positive = data_train[data_train[:,-1]==1,:]\n",
    "for i in range(scale_pos_weight):\n",
    "    data_train = np.concatenate((data_train, data_train_positive), axis=0)\n",
    "data_train.shape"
   ]
  },
  {
   "cell_type": "markdown",
   "id": "chicken-logging",
   "metadata": {},
   "source": [
    "# Cross validation\n",
    "- 5-fold\n",
    "- optimising c in [10^(-5), 10^(-4), ... , 10**5]\n",
    "- average_precision (auc_pr)"
   ]
  },
  {
   "cell_type": "code",
   "execution_count": 7,
   "id": "julian-administration",
   "metadata": {},
   "outputs": [],
   "source": [
    "clf = LogisticRegressionCV(Cs=[10**x for x in range(-5, 5) ], cv=5, random_state=10, scoring=\"average_precision\", max_iter=100)"
   ]
  },
  {
   "cell_type": "code",
   "execution_count": 8,
   "id": "color-albert",
   "metadata": {},
   "outputs": [
    {
     "data": {
      "text/plain": [
       "{1.0: array([[0.81133078, 0.81847344, 0.8225743 , 0.8231178 , 0.82315552,\n",
       "         0.82315766, 0.82315985, 0.8231601 , 0.82316022, 0.82316013],\n",
       "        [0.82615315, 0.83336657, 0.83789935, 0.83791922, 0.83791334,\n",
       "         0.83790296, 0.83790245, 0.83790305, 0.83790147, 0.8379015 ],\n",
       "        [0.81968843, 0.82818735, 0.8341649 , 0.83501946, 0.83508058,\n",
       "         0.83508265, 0.83508399, 0.83508381, 0.83508282, 0.83508312],\n",
       "        [0.81576499, 0.82286076, 0.82727026, 0.8277957 , 0.82780288,\n",
       "         0.82780739, 0.82780729, 0.82780705, 0.82780744, 0.82780692],\n",
       "        [0.81948852, 0.82755479, 0.83334619, 0.83389252, 0.83390157,\n",
       "         0.83389981, 0.83389988, 0.83390057, 0.83390164, 0.83390184]])}"
      ]
     },
     "execution_count": 8,
     "metadata": {},
     "output_type": "execute_result"
    }
   ],
   "source": [
    "clf.fit(data_train[:,:-1], data_train[:,-1])\n",
    "clf.scores_"
   ]
  },
  {
   "cell_type": "code",
   "execution_count": 9,
   "id": "extra-modification",
   "metadata": {},
   "outputs": [
    {
     "data": {
      "text/plain": [
       "0.8379192201991554"
      ]
     },
     "execution_count": 9,
     "metadata": {},
     "output_type": "execute_result"
    }
   ],
   "source": [
    "clf.scores_[1].max()"
   ]
  },
  {
   "cell_type": "markdown",
   "id": "surface-governor",
   "metadata": {},
   "source": [
    "# Test"
   ]
  },
  {
   "cell_type": "code",
   "execution_count": 10,
   "id": "excellent-august",
   "metadata": {},
   "outputs": [],
   "source": [
    "predictions = clf.predict(X_test)\n",
    "prob = clf.predict_proba(X_test)"
   ]
  },
  {
   "cell_type": "code",
   "execution_count": 11,
   "id": "conventional-division",
   "metadata": {},
   "outputs": [],
   "source": [
    "aucpr = average_precision_score(y_test, prob[:,1])"
   ]
  },
  {
   "cell_type": "code",
   "execution_count": 12,
   "id": "sacred-mandate",
   "metadata": {},
   "outputs": [
    {
     "data": {
      "text/plain": [
       "0.7001506780512305"
      ]
     },
     "execution_count": 12,
     "metadata": {},
     "output_type": "execute_result"
    }
   ],
   "source": [
    "cm = confusion_matrix(y_test, predictions)\n",
    "recall_val = cm[1,1] / (cm[1,0]+cm[1,1])\n",
    "recall_val"
   ]
  },
  {
   "cell_type": "code",
   "execution_count": 13,
   "id": "binding-adapter",
   "metadata": {},
   "outputs": [
    {
     "data": {
      "text/plain": [
       "<sklearn.metrics._plot.confusion_matrix.ConfusionMatrixDisplay at 0x127e2c880>"
      ]
     },
     "execution_count": 13,
     "metadata": {},
     "output_type": "execute_result"
    },
    {
     "data": {
      "image/png": "[encoded data removed]",
      "text/plain": [
       "<Figure size 432x288 with 2 Axes>"
      ]
     },
     "metadata": {
      "needs_background": "light"
     },
     "output_type": "display_data"
    }
   ],
   "source": [
    "plot_confusion_matrix(clf, X_test, y_test)"
   ]
  },
  {
   "cell_type": "markdown",
   "id": "fancy-kenya",
   "metadata": {},
   "source": [
    "# Save the model\n",
    "without woe ->  T3 processed model: \"./model_cv_lgc.p\"\n",
    "\n",
    "with woe -> woe processed model: \"./woe_data_model/model_woe_lgc.p\""
   ]
  },
  {
   "cell_type": "code",
   "execution_count": 107,
   "id": "consolidated-bobby",
   "metadata": {},
   "outputs": [],
   "source": [
    "pickle.dump({\"clf\": clf}, open(\"./woe_data_model/model_woe_lgc.p\", \"wb\"))"
   ]
  },
  {
   "cell_type": "markdown",
   "id": "fatal-paradise",
   "metadata": {},
   "source": [
    "# Results\n",
    "### no woe \n",
    "- cross validation, best aucpr : 0.8217554439679058 \n",
    "- test_data, aucpr :0.49876507124900915 recall : 0.6695128076343546\n",
    "\n",
    "### with woe\n",
    "- cross validation, best aucpr : 0.8376307650768446\n",
    "- test_data aucpr : 0.5313492721419514 recall: 0.7001506780512305"
   ]
  },
  {
   "cell_type": "code",
   "execution_count": null,
   "id": "native-hunger",
   "metadata": {},
   "outputs": [],
   "source": []
  }
 ],
 "metadata": {
  "kernelspec": {
   "display_name": "myenv",
   "language": "python",
   "name": "myenv"
  },
  "language_info": {
   "codemirror_mode": {
    "name": "ipython",
    "version": 3
   },
   "file_extension": ".py",
   "mimetype": "text/x-python",
   "name": "python",
   "nbconvert_exporter": "python",
   "pygments_lexer": "ipython3",
   "version": "3.8.2"
  }
 },
 "nbformat": 4,
 "nbformat_minor": 5
}
