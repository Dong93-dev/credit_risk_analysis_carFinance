{
 "cells": [
  {
   "cell_type": "code",
   "execution_count": 1,
   "id": "varying-sauce",
   "metadata": {},
   "outputs": [],
   "source": [
    "import pandas as pd"
   ]
  },
  {
   "cell_type": "markdown",
   "id": "written-shark",
   "metadata": {},
   "source": [
    "# this file is to reformat credit data for woe processing"
   ]
  },
  {
   "cell_type": "code",
   "execution_count": 37,
   "id": "neither-cowboy",
   "metadata": {},
   "outputs": [],
   "source": [
    "\n",
    "df1 = pd.read_csv(\"credit_risk_data.csv\", skiprows=1, index_col=\"ID\")\n"
   ]
  },
  {
   "cell_type": "code",
   "execution_count": 38,
   "id": "descending-broad",
   "metadata": {},
   "outputs": [],
   "source": [
    "df1.rename(columns={\"default payment next month\": \"target\"},  inplace=True)\n"
   ]
  },
  {
   "cell_type": "code",
   "execution_count": 39,
   "id": "featured-class",
   "metadata": {},
   "outputs": [],
   "source": [
    "df1.to_csv(\"formatted_credit_risk_data.csv\")"
   ]
  },
  {
   "cell_type": "code",
   "execution_count": null,
   "id": "beginning-royal",
   "metadata": {},
   "outputs": [],
   "source": []
  }
 ],
 "metadata": {
  "kernelspec": {
   "display_name": "myenv",
   "language": "python",
   "name": "myenv"
  },
  "language_info": {
   "codemirror_mode": {
    "name": "ipython",
    "version": 3
   },
   "file_extension": ".py",
   "mimetype": "text/x-python",
   "name": "python",
   "nbconvert_exporter": "python",
   "pygments_lexer": "ipython3",
   "version": "3.8.2"
  }
 },
 "nbformat": 4,
 "nbformat_minor": 5
}
