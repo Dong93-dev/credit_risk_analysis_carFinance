{
 "cells": [
  {
   "cell_type": "markdown",
   "id": "consistent-agreement",
   "metadata": {},
   "source": [
    "# woe transformation"
   ]
  },
  {
   "cell_type": "markdown",
   "id": "billion-albany",
   "metadata": {},
   "source": [
    "# Module import"
   ]
  },
  {
   "cell_type": "code",
   "execution_count": 1,
   "id": "crazy-manner",
   "metadata": {},
   "outputs": [],
   "source": [
    "import os\n",
    "import numpy as np\n",
    "import pandas as pd\n",
    "import woe.feature_process as fp\n",
    "import woe.GridSearch as gs"
   ]
  },
  {
   "cell_type": "markdown",
   "id": "traditional-maria",
   "metadata": {},
   "source": [
    "# Format raw data\n",
    "- format the raw data firstly to the format used in the woe transformation"
   ]
  },
  {
   "cell_type": "code",
   "execution_count": 2,
   "id": "attractive-faith",
   "metadata": {},
   "outputs": [],
   "source": [
    "# load raw data\n",
    "df1 = pd.read_csv(\"credit_risk_data.csv\", skiprows=1, index_col=\"ID\")\n",
    "# change column name of default payment next month to target, in line with config.csv\n",
    "df1.rename(columns={\"default payment next month\": \"target\"},  inplace=True)\n",
    "df1.to_csv(\"formatted_credit_risk_data.csv\")"
   ]
  },
  {
   "cell_type": "markdown",
   "id": "center-heavy",
   "metadata": {},
   "source": [
    "# Woe transform\n",
    "- this part used woe to transform all the credit data and saved the transformed data in \"woe_transformed_credit_dataset.csv\""
   ]
  },
  {
   "cell_type": "code",
   "execution_count": 3,
   "id": "passive-joining",
   "metadata": {},
   "outputs": [
    {
     "name": "stdout",
     "output_type": "stream",
     "text": [
      "run into process_train_woe: \n",
      " Sun Feb  7 13:25:04 2021\n",
      "------------------Changing Feature Dtypes-------------------\n",
      "ID                                            object\n",
      "LIMIT_BAL                                      int64\n",
      "SEX                                           object\n",
      "EDUCATION                                     object\n",
      "MARRIAGE                                      object\n",
      "AGE                                            int64\n",
      "PAY_0                                          int64\n",
      "PAY_2                                          int64\n",
      "PAY_3                                          int64\n",
      "PAY_4                                          int64\n",
      "PAY_5                                          int64\n",
      "PAY_6                                          int64\n",
      "BILL_AMT1                                      int64\n",
      "BILL_AMT2                                      int64\n",
      "BILL_AMT3                                      int64\n",
      "BILL_AMT4                                      int64\n",
      "BILL_AMT5                                      int64\n",
      "BILL_AMT6                                      int64\n",
      "PAY_AMT1                                       int64\n",
      "PAY_AMT2                                       int64\n",
      "PAY_AMT3                                       int64\n",
      "PAY_AMT4                                       int64\n",
      "PAY_AMT5                                       int64\n",
      "PAY_AMT6                                       int64\n",
      "target                                         int64\n",
      "------------Variable Dtypes Have Been Specified-------------\n",
      "process woe transformation of continuous variables: \n",
      " Sun Feb  7 13:25:05 2021\n",
      "cfg.global_bt 6636\n",
      "cfg.global_gt 23364\n",
      "-----------process continuous variable:LIMIT_BAL------------\n",
      "--------------process continuous variable:AGE---------------\n",
      "-------------process continuous variable:PAY_0--------------\n",
      "-------------process continuous variable:PAY_2--------------\n",
      "-------------process continuous variable:PAY_3--------------\n",
      "-------------process continuous variable:PAY_4--------------\n",
      "-------------process continuous variable:PAY_5--------------\n",
      "-------------process continuous variable:PAY_6--------------\n",
      "-----------process continuous variable:BILL_AMT1------------\n",
      "-----------process continuous variable:BILL_AMT2------------\n",
      "-----------process continuous variable:BILL_AMT3------------\n",
      "-----------process continuous variable:BILL_AMT4------------\n",
      "-----------process continuous variable:BILL_AMT5------------\n",
      "-----------process continuous variable:BILL_AMT6------------\n",
      "------------process continuous variable:PAY_AMT1------------\n",
      "------------process continuous variable:PAY_AMT2------------\n",
      "------------process continuous variable:PAY_AMT3------------\n",
      "------------process continuous variable:PAY_AMT4------------\n",
      "------------process continuous variable:PAY_AMT5------------\n",
      "------------process continuous variable:PAY_AMT6------------\n",
      "process woe transformation of discrete variables: \n",
      " Sun Feb  7 13:26:50 2021\n",
      "---------------process discrete variable:SEX----------------\n",
      "------------process discrete variable:EDUCATION-------------\n",
      "-------------process discrete variable:MARRIAGE-------------\n"
     ]
    },
    {
     "name": "stderr",
     "output_type": "stream",
     "text": [
      "/Users/user/Desktop/tmp/venv/lib/python3.8/site-packages/woe/feature_process.py:414: SettingWithCopyWarning: \n",
      "A value is trying to be set on a copy of a slice from a DataFrame.\n",
      "Try using .loc[row_indexer,col_indexer] = value instead\n",
      "\n",
      "See the caveats in the documentation: https://pandas.pydata.org/pandas-docs/stable/user_guide/indexing.html#returning-a-view-versus-a-copy\n",
      "  df[var] = cpvar\n",
      "/Users/user/Desktop/tmp/venv/lib/python3.8/site-packages/woe/feature_process.py:414: SettingWithCopyWarning: \n",
      "A value is trying to be set on a copy of a slice from a DataFrame.\n",
      "Try using .loc[row_indexer,col_indexer] = value instead\n",
      "\n",
      "See the caveats in the documentation: https://pandas.pydata.org/pandas-docs/stable/user_guide/indexing.html#returning-a-view-versus-a-copy\n",
      "  df[var] = cpvar\n",
      "/Users/user/Desktop/tmp/venv/lib/python3.8/site-packages/woe/feature_process.py:414: SettingWithCopyWarning: \n",
      "A value is trying to be set on a copy of a slice from a DataFrame.\n",
      "Try using .loc[row_indexer,col_indexer] = value instead\n",
      "\n",
      "See the caveats in the documentation: https://pandas.pydata.org/pandas-docs/stable/user_guide/indexing.html#returning-a-view-versus-a-copy\n",
      "  df[var] = cpvar\n"
     ]
    },
    {
     "name": "stdout",
     "output_type": "stream",
     "text": [
      "LIMIT_BAL\n",
      "AGE\n",
      "PAY_0\n",
      "PAY_2\n",
      "PAY_3\n",
      "PAY_4\n",
      "PAY_5\n",
      "PAY_6\n",
      "BILL_AMT1\n",
      "BILL_AMT2\n",
      "BILL_AMT3\n",
      "BILL_AMT4\n",
      "BILL_AMT5\n",
      "BILL_AMT6\n",
      "PAY_AMT1\n",
      "PAY_AMT2\n",
      "PAY_AMT3\n",
      "PAY_AMT4\n",
      "PAY_AMT5\n",
      "PAY_AMT6\n",
      "SEX\n",
      "EDUCATION\n",
      "MARRIAGE\n",
      "save woe transformation rule into pickle: \n",
      " Sun Feb  7 13:26:50 2021\n",
      "------------------Changing Feature Dtypes-------------------\n",
      "ID                                            object\n",
      "LIMIT_BAL                                      int64\n",
      "SEX                                           object\n",
      "EDUCATION                                     object\n",
      "MARRIAGE                                      object\n",
      "AGE                                            int64\n",
      "PAY_0                                          int64\n",
      "PAY_2                                          int64\n",
      "PAY_3                                          int64\n",
      "PAY_4                                          int64\n",
      "PAY_5                                          int64\n",
      "PAY_6                                          int64\n",
      "BILL_AMT1                                      int64\n",
      "BILL_AMT2                                      int64\n",
      "BILL_AMT3                                      int64\n",
      "BILL_AMT4                                      int64\n",
      "BILL_AMT5                                      int64\n",
      "BILL_AMT6                                      int64\n",
      "PAY_AMT1                                       int64\n",
      "PAY_AMT2                                       int64\n",
      "PAY_AMT3                                       int64\n",
      "PAY_AMT4                                       int64\n",
      "PAY_AMT5                                       int64\n",
      "PAY_AMT6                                       int64\n",
      "target                                         int64\n",
      "------------Variable Dtypes Have Been Specified-------------\n"
     ]
    }
   ],
   "source": [
    "config_path = os.getcwd()+'/config.csv'\n",
    "data_path = os.getcwd()+'/formatted_credit_risk_data.csv'\n",
    "feature_detail_path = os.getcwd()+'/features_detail.csv'\n",
    "rst_pkl_path = os.getcwd()+'/woe_rule.pkl'\n",
    "# train woe rule\n",
    "feature_detail,rst = fp.process_train_woe(infile_path=data_path\n",
    "                                           ,outfile_path=feature_detail_path\n",
    "                                           ,rst_path=rst_pkl_path\n",
    "                                           ,config_path=config_path)\n",
    "    # proc woe transformation\n",
    "woe_train_path = os.getcwd()+'/woe_transformed_credit_dataset.csv'\n",
    "fp.process_woe_trans(data_path,rst_pkl_path,woe_train_path,config_path)"
   ]
  },
  {
   "cell_type": "markdown",
   "id": "theoretical-medication",
   "metadata": {},
   "source": [
    "# New data transform"
   ]
  },
  {
   "cell_type": "code",
   "execution_count": 4,
   "id": "stopped-internet",
   "metadata": {},
   "outputs": [
    {
     "name": "stdout",
     "output_type": "stream",
     "text": [
      "------------------Changing Feature Dtypes-------------------\n",
      "ID                                            object\n",
      "LIMIT_BAL                                      int64\n",
      "SEX                                           object\n",
      "EDUCATION                                     object\n",
      "MARRIAGE                                      object\n",
      "AGE                                            int64\n",
      "PAY_0                                          int64\n",
      "PAY_2                                          int64\n",
      "PAY_3                                          int64\n",
      "PAY_4                                          int64\n",
      "PAY_5                                          int64\n",
      "PAY_6                                          int64\n",
      "BILL_AMT1                                      int64\n",
      "BILL_AMT2                                      int64\n",
      "BILL_AMT3                                      int64\n",
      "BILL_AMT4                                      int64\n",
      "BILL_AMT5                                      int64\n",
      "BILL_AMT6                                      int64\n",
      "PAY_AMT1                                       int64\n",
      "PAY_AMT2                                       int64\n",
      "PAY_AMT3                                       int64\n",
      "PAY_AMT4                                       int64\n",
      "PAY_AMT5                                       int64\n",
      "PAY_AMT6                                       int64\n",
      "target                                         int64\n",
      "------------Variable Dtypes Have Been Specified-------------\n"
     ]
    }
   ],
   "source": [
    "config_path = os.getcwd()+'/config.csv'\n",
    "rst_pkl_path = os.getcwd()+'/woe_rule.pkl'\n",
    "new_data_path = os.getcwd()+'/formatted_credit_risk_data.csv'\n",
    "woe_transform_data = os.getcwd()+'/woe_transform_new_data.csv'\n",
    "fp.process_woe_trans(new_data_path,rst_pkl_path,woe_transform_data,config_path)"
   ]
  },
  {
   "cell_type": "code",
   "execution_count": null,
   "id": "relative-environment",
   "metadata": {},
   "outputs": [],
   "source": []
  }
 ],
 "metadata": {
  "kernelspec": {
   "display_name": "myenv",
   "language": "python",
   "name": "myenv"
  },
  "language_info": {
   "codemirror_mode": {
    "name": "ipython",
    "version": 3
   },
   "file_extension": ".py",
   "mimetype": "text/x-python",
   "name": "python",
   "nbconvert_exporter": "python",
   "pygments_lexer": "ipython3",
   "version": "3.8.2"
  }
 },
 "nbformat": 4,
 "nbformat_minor": 5
}
